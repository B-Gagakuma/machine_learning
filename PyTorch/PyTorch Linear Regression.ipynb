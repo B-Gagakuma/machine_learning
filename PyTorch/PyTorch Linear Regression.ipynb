{
 "cells": [
  {
   "cell_type": "code",
   "execution_count": 1,
   "id": "japanese-vacuum",
   "metadata": {},
   "outputs": [],
   "source": [
    "import torch\n",
    "import torch.nn as nn\n",
    "import numpy as np\n",
    "import matplotlib.pyplot as plt"
   ]
  },
  {
   "cell_type": "code",
   "execution_count": 2,
   "id": "academic-favorite",
   "metadata": {},
   "outputs": [],
   "source": [
    "# generate 20 data points\n",
    "N = 20\n",
    "\n",
    "# random data on x-axis in (-5, 5)\n",
    "X = np.random.random(N) * 10 - 5\n",
    "\n",
    "# y is a line plus some noise\n",
    "Y = 0.5 * X - 1 + np.random.randn(N)"
   ]
  },
  {
   "cell_type": "code",
   "execution_count": 4,
   "id": "uniform-regression",
   "metadata": {},
   "outputs": [
    {
     "data": {
      "text/plain": [
       "<matplotlib.collections.PathCollection at 0x7f2dc5618a90>"
      ]
     },
     "execution_count": 4,
     "metadata": {},
     "output_type": "execute_result"
    },
    {
     "data": {
      "image/png": "[encoded data removed]",
      "text/plain": [
       "<Figure size 432x288 with 1 Axes>"
      ]
     },
     "metadata": {
      "needs_background": "light"
     },
     "output_type": "display_data"
    }
   ],
   "source": [
    "# Plot the data\n",
    "plt.scatter(X, Y, color='dodgerblue')"
   ]
  },
  {
   "cell_type": "code",
   "execution_count": 5,
   "id": "lucky-protest",
   "metadata": {},
   "outputs": [],
   "source": [
    "# Create a Linear Regression model\n",
    "model = nn.Linear(1, 1)"
   ]
  },
  {
   "cell_type": "code",
   "execution_count": 6,
   "id": "composite-rubber",
   "metadata": {},
   "outputs": [],
   "source": [
    "# Loss and optimizer\n",
    "criterion = nn.MSELoss()    # loss/objective\n",
    "optimizer = torch.optim.SGD(model.parameters(), lr=0.05)"
   ]
  },
  {
   "cell_type": "code",
   "execution_count": 7,
   "id": "ranking-reset",
   "metadata": {},
   "outputs": [],
   "source": [
    "# In ML we want our data to be of shape:\n",
    "# num_samples x num_dimensions (N x D)\n",
    "X = X.reshape(N, 1)\n",
    "Y = Y.reshape(N, 1)\n",
    "\n",
    "# PyTorch uses float32 by default\n",
    "# Numpy creates float64 by default ---> need to resolve\n",
    "inputs = torch.from_numpy(X.astype(np.float32))\n",
    "targets = torch.from_numpy(Y.astype(np.float32))"
   ]
  },
  {
   "cell_type": "code",
   "execution_count": 8,
   "id": "recognized-diagram",
   "metadata": {},
   "outputs": [
    {
     "name": "stdout",
     "output_type": "stream",
     "text": [
      "torch.FloatTensor\n"
     ]
    }
   ],
   "source": [
    "print(targets.type())"
   ]
  },
  {
   "cell_type": "code",
   "execution_count": 9,
   "id": "objective-blast",
   "metadata": {},
   "outputs": [
    {
     "name": "stdout",
     "output_type": "stream",
     "text": [
      "Epoch 1/30, Loss: 14.8654\n",
      "Epoch 2/30, Loss: 3.2102\n",
      "Epoch 3/30, Loss: 2.0537\n",
      "Epoch 4/30, Loss: 1.8330\n",
      "Epoch 5/30, Loss: 1.7161\n",
      "Epoch 6/30, Loss: 1.6267\n",
      "Epoch 7/30, Loss: 1.5546\n",
      "Epoch 8/30, Loss: 1.4963\n",
      "Epoch 9/30, Loss: 1.4490\n",
      "Epoch 10/30, Loss: 1.4106\n",
      "Epoch 11/30, Loss: 1.3795\n",
      "Epoch 12/30, Loss: 1.3543\n",
      "Epoch 13/30, Loss: 1.3339\n",
      "Epoch 14/30, Loss: 1.3173\n",
      "Epoch 15/30, Loss: 1.3039\n",
      "Epoch 16/30, Loss: 1.2930\n",
      "Epoch 17/30, Loss: 1.2842\n",
      "Epoch 18/30, Loss: 1.2770\n",
      "Epoch 19/30, Loss: 1.2712\n",
      "Epoch 20/30, Loss: 1.2665\n",
      "Epoch 21/30, Loss: 1.2627\n",
      "Epoch 22/30, Loss: 1.2596\n",
      "Epoch 23/30, Loss: 1.2571\n",
      "Epoch 24/30, Loss: 1.2551\n",
      "Epoch 25/30, Loss: 1.2534\n",
      "Epoch 26/30, Loss: 1.2521\n",
      "Epoch 27/30, Loss: 1.2510\n",
      "Epoch 28/30, Loss: 1.2501\n",
      "Epoch 29/30, Loss: 1.2494\n",
      "Epoch 30/30, Loss: 1.2489\n"
     ]
    }
   ],
   "source": [
    "# Train the model\n",
    "n_epochs = 30\n",
    "losses = []\n",
    "\n",
    "for it in range(n_epochs):\n",
    "  # zero the parameter gradients\n",
    "  optimizer.zero_grad()\n",
    "\n",
    "  # Forward pass\n",
    "  outputs = model(inputs)\n",
    "  loss = criterion(outputs, targets)\n",
    "\n",
    "  # keep the loss so we can plot it later\n",
    "  losses.append(loss.item())\n",
    "    \n",
    "  # Backward and optimize\n",
    "  loss.backward()\n",
    "  optimizer.step()\n",
    "    \n",
    "  print(f'Epoch {it+1}/{n_epochs}, Loss: {loss.item():.4f}')"
   ]
  },
  {
   "cell_type": "code",
   "execution_count": 10,
   "id": "ignored-macedonia",
   "metadata": {},
   "outputs": [
    {
     "data": {
      "text/plain": [
       "[<matplotlib.lines.Line2D at 0x7f2dc4d846d0>]"
      ]
     },
     "execution_count": 10,
     "metadata": {},
     "output_type": "execute_result"
    },
    {
     "data": {
      "image/png": "[encoded data removed]",
      "text/plain": [
       "<Figure size 432x288 with 1 Axes>"
      ]
     },
     "metadata": {
      "needs_background": "light"
     },
     "output_type": "display_data"
    }
   ],
   "source": [
    "# Plot the loss per iteration\n",
    "plt.plot(losses)"
   ]
  },
  {
   "cell_type": "code",
   "execution_count": 11,
   "id": "ethical-samba",
   "metadata": {},
   "outputs": [
    {
     "data": {
      "text/plain": [
       "<matplotlib.legend.Legend at 0x7f2dc4d5de20>"
      ]
     },
     "execution_count": 11,
     "metadata": {},
     "output_type": "execute_result"
    },
    {
     "data": {
      "image/png": "[encoded data removed]",
      "text/plain": [
       "<Figure size 432x288 with 1 Axes>"
      ]
     },
     "metadata": {
      "needs_background": "light"
     },
     "output_type": "display_data"
    }
   ],
   "source": [
    "# Plot the fitted line\n",
    "predicted = model(inputs).detach().numpy()\n",
    "plt.scatter(X, Y, color='dodgerblue', label='Original data')\n",
    "plt.plot(X, predicted, label='Fitted line')\n",
    "plt.legend()"
   ]
  },
  {
   "cell_type": "code",
   "execution_count": 12,
   "id": "brave-prompt",
   "metadata": {},
   "outputs": [
    {
     "ename": "RuntimeError",
     "evalue": "Can't call numpy() on Tensor that requires grad. Use tensor.detach().numpy() instead.",
     "output_type": "error",
     "traceback": [
      "\u001b[0;31m---------------------------------------------------------------------------\u001b[0m",
      "\u001b[0;31mRuntimeError\u001b[0m                              Traceback (most recent call last)",
      "\u001b[0;32m<ipython-input-12-8dc767f028ca>\u001b[0m in \u001b[0;36m<module>\u001b[0;34m\u001b[0m\n\u001b[1;32m      1\u001b[0m \u001b[0;31m# Error!\u001b[0m\u001b[0;34m\u001b[0m\u001b[0;34m\u001b[0m\u001b[0;34m\u001b[0m\u001b[0m\n\u001b[0;32m----> 2\u001b[0;31m \u001b[0mmodel\u001b[0m\u001b[0;34m(\u001b[0m\u001b[0minputs\u001b[0m\u001b[0;34m)\u001b[0m\u001b[0;34m.\u001b[0m\u001b[0mnumpy\u001b[0m\u001b[0;34m(\u001b[0m\u001b[0;34m)\u001b[0m\u001b[0;34m\u001b[0m\u001b[0;34m\u001b[0m\u001b[0m\n\u001b[0m",
      "\u001b[0;31mRuntimeError\u001b[0m: Can't call numpy() on Tensor that requires grad. Use tensor.detach().numpy() instead."
     ]
    }
   ],
   "source": [
    "# Error!\n",
    "model(inputs).numpy()"
   ]
  },
  {
   "cell_type": "code",
   "execution_count": 13,
   "id": "challenging-asbestos",
   "metadata": {},
   "outputs": [
    {
     "data": {
      "text/plain": [
       "array([[-2.3558364 ],\n",
       "       [ 1.2603123 ],\n",
       "       [-2.634892  ],\n",
       "       [ 0.6501378 ],\n",
       "       [-0.5063935 ],\n",
       "       [-1.8147632 ],\n",
       "       [-0.58696187],\n",
       "       [ 0.09910107],\n",
       "       [-2.6771421 ],\n",
       "       [ 0.8957586 ],\n",
       "       [-1.8266624 ],\n",
       "       [-3.2839963 ],\n",
       "       [-1.4582621 ],\n",
       "       [-3.5926094 ],\n",
       "       [-1.2379088 ],\n",
       "       [ 0.10747004],\n",
       "       [-0.08026242],\n",
       "       [ 0.94231534],\n",
       "       [-3.1243253 ],\n",
       "       [-0.5030793 ]], dtype=float32)"
      ]
     },
     "execution_count": 13,
     "metadata": {},
     "output_type": "execute_result"
    }
   ],
   "source": [
    "# Another way\n",
    "with torch.no_grad():\n",
    "    out = model(inputs).numpy()\n",
    "out"
   ]
  },
  {
   "cell_type": "code",
   "execution_count": 23,
   "id": "moderate-basics",
   "metadata": {},
   "outputs": [
    {
     "name": "stdout",
     "output_type": "stream",
     "text": [
      "[[0.4191763]] [-0.6536459]\n"
     ]
    }
   ],
   "source": [
    "# Important!\n",
    "# In order to test the efficacy of our model, synthetic data is useful\n",
    "# Why?\n",
    "# Because ***we know the answer***\n",
    "# True values of (w, b) are (0.5, -1)\n",
    "w = model.weight.data.numpy()\n",
    "b = model.bias.data.numpy()\n",
    "print(w, b)"
   ]
  },
  {
   "cell_type": "code",
   "execution_count": null,
   "id": "martial-overall",
   "metadata": {},
   "outputs": [],
   "source": []
  }
 ],
 "metadata": {
  "kernelspec": {
   "display_name": "Python 3",
   "language": "python",
   "name": "python3"
  },
  "language_info": {
   "codemirror_mode": {
    "name": "ipython",
    "version": 3
   },
   "file_extension": ".py",
   "mimetype": "text/x-python",
   "name": "python",
   "nbconvert_exporter": "python",
   "pygments_lexer": "ipython3",
   "version": "3.8.10"
  }
 },
 "nbformat": 4,
 "nbformat_minor": 5
}
