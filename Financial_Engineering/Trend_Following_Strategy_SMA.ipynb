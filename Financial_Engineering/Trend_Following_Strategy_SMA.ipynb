{
 "cells": [
  {
   "cell_type": "code",
   "execution_count": 2,
   "metadata": {
    "id": "-WVgIMuPk4t6"
   },
   "outputs": [],
   "source": [
    "import pandas as pd\n",
    "import numpy as np\n",
    "import matplotlib.pyplot as plt"
   ]
  },
  {
   "cell_type": "code",
   "execution_count": 3,
   "metadata": {
    "id": "zmT4Zyowk6B6"
   },
   "outputs": [],
   "source": [
    "df = pd.read_csv('SPY.csv', index_col='Date', parse_dates=True)"
   ]
  },
  {
   "cell_type": "code",
   "execution_count": 4,
   "metadata": {
    "colab": {
     "base_uri": "https://localhost:8080/",
     "height": 235
    },
    "id": "UpAr4maSk9Vm",
    "outputId": "5ef9a265-baa5-41ea-d885-b21888b7282a"
   },
   "outputs": [
    {
     "data": {
      "text/html": [
       "<div>\n",
       "<style scoped>\n",
       "    .dataframe tbody tr th:only-of-type {\n",
       "        vertical-align: middle;\n",
       "    }\n",
       "\n",
       "    .dataframe tbody tr th {\n",
       "        vertical-align: top;\n",
       "    }\n",
       "\n",
       "    .dataframe thead th {\n",
       "        text-align: right;\n",
       "    }\n",
       "</style>\n",
       "<table border=\"1\" class=\"dataframe\">\n",
       "  <thead>\n",
       "    <tr style=\"text-align: right;\">\n",
       "      <th></th>\n",
       "      <th>Open</th>\n",
       "      <th>High</th>\n",
       "      <th>Low</th>\n",
       "      <th>Close</th>\n",
       "      <th>Adj Close</th>\n",
       "      <th>Volume</th>\n",
       "    </tr>\n",
       "    <tr>\n",
       "      <th>Date</th>\n",
       "      <th></th>\n",
       "      <th></th>\n",
       "      <th></th>\n",
       "      <th></th>\n",
       "      <th></th>\n",
       "      <th></th>\n",
       "    </tr>\n",
       "  </thead>\n",
       "  <tbody>\n",
       "    <tr>\n",
       "      <th>2010-01-04</th>\n",
       "      <td>112.370003</td>\n",
       "      <td>113.389999</td>\n",
       "      <td>111.510002</td>\n",
       "      <td>113.330002</td>\n",
       "      <td>92.246048</td>\n",
       "      <td>118944600</td>\n",
       "    </tr>\n",
       "    <tr>\n",
       "      <th>2010-01-05</th>\n",
       "      <td>113.260002</td>\n",
       "      <td>113.680000</td>\n",
       "      <td>112.849998</td>\n",
       "      <td>113.629997</td>\n",
       "      <td>92.490204</td>\n",
       "      <td>111579900</td>\n",
       "    </tr>\n",
       "    <tr>\n",
       "      <th>2010-01-06</th>\n",
       "      <td>113.519997</td>\n",
       "      <td>113.989998</td>\n",
       "      <td>113.430000</td>\n",
       "      <td>113.709999</td>\n",
       "      <td>92.555328</td>\n",
       "      <td>116074400</td>\n",
       "    </tr>\n",
       "    <tr>\n",
       "      <th>2010-01-07</th>\n",
       "      <td>113.500000</td>\n",
       "      <td>114.330002</td>\n",
       "      <td>113.180000</td>\n",
       "      <td>114.190002</td>\n",
       "      <td>92.946060</td>\n",
       "      <td>131091100</td>\n",
       "    </tr>\n",
       "    <tr>\n",
       "      <th>2010-01-08</th>\n",
       "      <td>113.889999</td>\n",
       "      <td>114.620003</td>\n",
       "      <td>113.660004</td>\n",
       "      <td>114.570000</td>\n",
       "      <td>93.255348</td>\n",
       "      <td>126402800</td>\n",
       "    </tr>\n",
       "  </tbody>\n",
       "</table>\n",
       "</div>"
      ],
      "text/plain": [
       "                  Open        High         Low       Close  Adj Close  \\\n",
       "Date                                                                    \n",
       "2010-01-04  112.370003  113.389999  111.510002  113.330002  92.246048   \n",
       "2010-01-05  113.260002  113.680000  112.849998  113.629997  92.490204   \n",
       "2010-01-06  113.519997  113.989998  113.430000  113.709999  92.555328   \n",
       "2010-01-07  113.500000  114.330002  113.180000  114.190002  92.946060   \n",
       "2010-01-08  113.889999  114.620003  113.660004  114.570000  93.255348   \n",
       "\n",
       "               Volume  \n",
       "Date                   \n",
       "2010-01-04  118944600  \n",
       "2010-01-05  111579900  \n",
       "2010-01-06  116074400  \n",
       "2010-01-07  131091100  \n",
       "2010-01-08  126402800  "
      ]
     },
     "execution_count": 4,
     "metadata": {},
     "output_type": "execute_result"
    }
   ],
   "source": [
    "df.head()"
   ]
  },
  {
   "cell_type": "code",
   "execution_count": 5,
   "metadata": {
    "id": "oV2_2UIAk_VF"
   },
   "outputs": [],
   "source": [
    "df['LogReturn'] = np.log(df['Close']).diff()"
   ]
  },
  {
   "cell_type": "code",
   "execution_count": 6,
   "metadata": {
    "colab": {
     "base_uri": "https://localhost:8080/",
     "height": 235
    },
    "id": "nVxuws2UlA40",
    "outputId": "f37c8b07-73f7-46d8-e7e9-7c8b82dfc4d0"
   },
   "outputs": [
    {
     "data": {
      "text/html": [
       "<div>\n",
       "<style scoped>\n",
       "    .dataframe tbody tr th:only-of-type {\n",
       "        vertical-align: middle;\n",
       "    }\n",
       "\n",
       "    .dataframe tbody tr th {\n",
       "        vertical-align: top;\n",
       "    }\n",
       "\n",
       "    .dataframe thead th {\n",
       "        text-align: right;\n",
       "    }\n",
       "</style>\n",
       "<table border=\"1\" class=\"dataframe\">\n",
       "  <thead>\n",
       "    <tr style=\"text-align: right;\">\n",
       "      <th></th>\n",
       "      <th>Open</th>\n",
       "      <th>High</th>\n",
       "      <th>Low</th>\n",
       "      <th>Close</th>\n",
       "      <th>Adj Close</th>\n",
       "      <th>Volume</th>\n",
       "      <th>LogReturn</th>\n",
       "    </tr>\n",
       "    <tr>\n",
       "      <th>Date</th>\n",
       "      <th></th>\n",
       "      <th></th>\n",
       "      <th></th>\n",
       "      <th></th>\n",
       "      <th></th>\n",
       "      <th></th>\n",
       "      <th></th>\n",
       "    </tr>\n",
       "  </thead>\n",
       "  <tbody>\n",
       "    <tr>\n",
       "      <th>2010-01-04</th>\n",
       "      <td>112.370003</td>\n",
       "      <td>113.389999</td>\n",
       "      <td>111.510002</td>\n",
       "      <td>113.330002</td>\n",
       "      <td>92.246048</td>\n",
       "      <td>118944600</td>\n",
       "      <td>NaN</td>\n",
       "    </tr>\n",
       "    <tr>\n",
       "      <th>2010-01-05</th>\n",
       "      <td>113.260002</td>\n",
       "      <td>113.680000</td>\n",
       "      <td>112.849998</td>\n",
       "      <td>113.629997</td>\n",
       "      <td>92.490204</td>\n",
       "      <td>111579900</td>\n",
       "      <td>0.002644</td>\n",
       "    </tr>\n",
       "    <tr>\n",
       "      <th>2010-01-06</th>\n",
       "      <td>113.519997</td>\n",
       "      <td>113.989998</td>\n",
       "      <td>113.430000</td>\n",
       "      <td>113.709999</td>\n",
       "      <td>92.555328</td>\n",
       "      <td>116074400</td>\n",
       "      <td>0.000704</td>\n",
       "    </tr>\n",
       "    <tr>\n",
       "      <th>2010-01-07</th>\n",
       "      <td>113.500000</td>\n",
       "      <td>114.330002</td>\n",
       "      <td>113.180000</td>\n",
       "      <td>114.190002</td>\n",
       "      <td>92.946060</td>\n",
       "      <td>131091100</td>\n",
       "      <td>0.004212</td>\n",
       "    </tr>\n",
       "    <tr>\n",
       "      <th>2010-01-08</th>\n",
       "      <td>113.889999</td>\n",
       "      <td>114.620003</td>\n",
       "      <td>113.660004</td>\n",
       "      <td>114.570000</td>\n",
       "      <td>93.255348</td>\n",
       "      <td>126402800</td>\n",
       "      <td>0.003322</td>\n",
       "    </tr>\n",
       "  </tbody>\n",
       "</table>\n",
       "</div>"
      ],
      "text/plain": [
       "                  Open        High         Low       Close  Adj Close  \\\n",
       "Date                                                                    \n",
       "2010-01-04  112.370003  113.389999  111.510002  113.330002  92.246048   \n",
       "2010-01-05  113.260002  113.680000  112.849998  113.629997  92.490204   \n",
       "2010-01-06  113.519997  113.989998  113.430000  113.709999  92.555328   \n",
       "2010-01-07  113.500000  114.330002  113.180000  114.190002  92.946060   \n",
       "2010-01-08  113.889999  114.620003  113.660004  114.570000  93.255348   \n",
       "\n",
       "               Volume  LogReturn  \n",
       "Date                              \n",
       "2010-01-04  118944600        NaN  \n",
       "2010-01-05  111579900   0.002644  \n",
       "2010-01-06  116074400   0.000704  \n",
       "2010-01-07  131091100   0.004212  \n",
       "2010-01-08  126402800   0.003322  "
      ]
     },
     "execution_count": 6,
     "metadata": {},
     "output_type": "execute_result"
    }
   ],
   "source": [
    "df.head()"
   ]
  },
  {
   "cell_type": "code",
   "execution_count": 7,
   "metadata": {
    "id": "9Mk8IEhwlD9I"
   },
   "outputs": [],
   "source": [
    "df['LogReturn'] = df['LogReturn'].shift(-1)"
   ]
  },
  {
   "cell_type": "code",
   "execution_count": 8,
   "metadata": {
    "colab": {
     "base_uri": "https://localhost:8080/",
     "height": 235
    },
    "id": "LIY1mHfElFZf",
    "outputId": "033b7acd-6dbd-4b2e-c527-a986d81b63fa"
   },
   "outputs": [
    {
     "data": {
      "text/html": [
       "<div>\n",
       "<style scoped>\n",
       "    .dataframe tbody tr th:only-of-type {\n",
       "        vertical-align: middle;\n",
       "    }\n",
       "\n",
       "    .dataframe tbody tr th {\n",
       "        vertical-align: top;\n",
       "    }\n",
       "\n",
       "    .dataframe thead th {\n",
       "        text-align: right;\n",
       "    }\n",
       "</style>\n",
       "<table border=\"1\" class=\"dataframe\">\n",
       "  <thead>\n",
       "    <tr style=\"text-align: right;\">\n",
       "      <th></th>\n",
       "      <th>Open</th>\n",
       "      <th>High</th>\n",
       "      <th>Low</th>\n",
       "      <th>Close</th>\n",
       "      <th>Adj Close</th>\n",
       "      <th>Volume</th>\n",
       "      <th>LogReturn</th>\n",
       "    </tr>\n",
       "    <tr>\n",
       "      <th>Date</th>\n",
       "      <th></th>\n",
       "      <th></th>\n",
       "      <th></th>\n",
       "      <th></th>\n",
       "      <th></th>\n",
       "      <th></th>\n",
       "      <th></th>\n",
       "    </tr>\n",
       "  </thead>\n",
       "  <tbody>\n",
       "    <tr>\n",
       "      <th>2010-01-04</th>\n",
       "      <td>112.370003</td>\n",
       "      <td>113.389999</td>\n",
       "      <td>111.510002</td>\n",
       "      <td>113.330002</td>\n",
       "      <td>92.246048</td>\n",
       "      <td>118944600</td>\n",
       "      <td>0.002644</td>\n",
       "    </tr>\n",
       "    <tr>\n",
       "      <th>2010-01-05</th>\n",
       "      <td>113.260002</td>\n",
       "      <td>113.680000</td>\n",
       "      <td>112.849998</td>\n",
       "      <td>113.629997</td>\n",
       "      <td>92.490204</td>\n",
       "      <td>111579900</td>\n",
       "      <td>0.000704</td>\n",
       "    </tr>\n",
       "    <tr>\n",
       "      <th>2010-01-06</th>\n",
       "      <td>113.519997</td>\n",
       "      <td>113.989998</td>\n",
       "      <td>113.430000</td>\n",
       "      <td>113.709999</td>\n",
       "      <td>92.555328</td>\n",
       "      <td>116074400</td>\n",
       "      <td>0.004212</td>\n",
       "    </tr>\n",
       "    <tr>\n",
       "      <th>2010-01-07</th>\n",
       "      <td>113.500000</td>\n",
       "      <td>114.330002</td>\n",
       "      <td>113.180000</td>\n",
       "      <td>114.190002</td>\n",
       "      <td>92.946060</td>\n",
       "      <td>131091100</td>\n",
       "      <td>0.003322</td>\n",
       "    </tr>\n",
       "    <tr>\n",
       "      <th>2010-01-08</th>\n",
       "      <td>113.889999</td>\n",
       "      <td>114.620003</td>\n",
       "      <td>113.660004</td>\n",
       "      <td>114.570000</td>\n",
       "      <td>93.255348</td>\n",
       "      <td>126402800</td>\n",
       "      <td>0.001396</td>\n",
       "    </tr>\n",
       "  </tbody>\n",
       "</table>\n",
       "</div>"
      ],
      "text/plain": [
       "                  Open        High         Low       Close  Adj Close  \\\n",
       "Date                                                                    \n",
       "2010-01-04  112.370003  113.389999  111.510002  113.330002  92.246048   \n",
       "2010-01-05  113.260002  113.680000  112.849998  113.629997  92.490204   \n",
       "2010-01-06  113.519997  113.989998  113.430000  113.709999  92.555328   \n",
       "2010-01-07  113.500000  114.330002  113.180000  114.190002  92.946060   \n",
       "2010-01-08  113.889999  114.620003  113.660004  114.570000  93.255348   \n",
       "\n",
       "               Volume  LogReturn  \n",
       "Date                              \n",
       "2010-01-04  118944600   0.002644  \n",
       "2010-01-05  111579900   0.000704  \n",
       "2010-01-06  116074400   0.004212  \n",
       "2010-01-07  131091100   0.003322  \n",
       "2010-01-08  126402800   0.001396  "
      ]
     },
     "execution_count": 8,
     "metadata": {},
     "output_type": "execute_result"
    }
   ],
   "source": [
    "df.head()"
   ]
  },
  {
   "cell_type": "code",
   "execution_count": 9,
   "metadata": {
    "id": "2u5yn89WlHfp"
   },
   "outputs": [],
   "source": [
    "df['SlowSMA'] = df['Close'].rolling(30).mean()\n",
    "df['FastSMA'] = df['Close'].rolling(10).mean()"
   ]
  },
  {
   "cell_type": "code",
   "execution_count": 10,
   "metadata": {
    "colab": {
     "base_uri": "https://localhost:8080/",
     "height": 318
    },
    "id": "XurglPknlLU4",
    "outputId": "40ec9003-86cf-40fe-ea0d-b0e6627e22e7"
   },
   "outputs": [
    {
     "data": {
      "image/png": "[encoded data removed]",
      "text/plain": [
       "<Figure size 720x360 with 1 Axes>"
      ]
     },
     "metadata": {
      "needs_background": "light"
     },
     "output_type": "display_data"
    }
   ],
   "source": [
    "df[['Close', 'FastSMA', 'SlowSMA']].plot(figsize=(10, 5));"
   ]
  },
  {
   "cell_type": "code",
   "execution_count": 11,
   "metadata": {
    "colab": {
     "base_uri": "https://localhost:8080/",
     "height": 326
    },
    "id": "PT96_TrOlPam",
    "outputId": "67f2c896-d646-4d64-911a-363902a2575f"
   },
   "outputs": [
    {
     "data": {
      "image/png": "[encoded data removed]",
      "text/plain": [
       "<Figure size 720x360 with 1 Axes>"
      ]
     },
     "metadata": {
      "needs_background": "light"
     },
     "output_type": "display_data"
    }
   ],
   "source": [
    "df[['Close', 'FastSMA', 'SlowSMA']].iloc[:300].plot(figsize=(10, 5));"
   ]
  },
  {
   "cell_type": "code",
   "execution_count": 12,
   "metadata": {
    "id": "HAjuhQGXlUgA"
   },
   "outputs": [],
   "source": [
    "df['Signal'] = np.where(df['FastSMA'] >= df['SlowSMA'], 1, 0)"
   ]
  },
  {
   "cell_type": "code",
   "execution_count": 13,
   "metadata": {
    "colab": {
     "base_uri": "https://localhost:8080/",
     "height": 390
    },
    "id": "XfjZTxH2lamt",
    "outputId": "aeedde0a-0b3c-4478-fa6c-62247c2cce2b"
   },
   "outputs": [
    {
     "data": {
      "text/html": [
       "<div>\n",
       "<style scoped>\n",
       "    .dataframe tbody tr th:only-of-type {\n",
       "        vertical-align: middle;\n",
       "    }\n",
       "\n",
       "    .dataframe tbody tr th {\n",
       "        vertical-align: top;\n",
       "    }\n",
       "\n",
       "    .dataframe thead th {\n",
       "        text-align: right;\n",
       "    }\n",
       "</style>\n",
       "<table border=\"1\" class=\"dataframe\">\n",
       "  <thead>\n",
       "    <tr style=\"text-align: right;\">\n",
       "      <th></th>\n",
       "      <th>Open</th>\n",
       "      <th>High</th>\n",
       "      <th>Low</th>\n",
       "      <th>Close</th>\n",
       "      <th>Adj Close</th>\n",
       "      <th>Volume</th>\n",
       "      <th>LogReturn</th>\n",
       "      <th>SlowSMA</th>\n",
       "      <th>FastSMA</th>\n",
       "      <th>Signal</th>\n",
       "    </tr>\n",
       "    <tr>\n",
       "      <th>Date</th>\n",
       "      <th></th>\n",
       "      <th></th>\n",
       "      <th></th>\n",
       "      <th></th>\n",
       "      <th></th>\n",
       "      <th></th>\n",
       "      <th></th>\n",
       "      <th></th>\n",
       "      <th></th>\n",
       "      <th></th>\n",
       "    </tr>\n",
       "  </thead>\n",
       "  <tbody>\n",
       "    <tr>\n",
       "      <th>2010-04-29</th>\n",
       "      <td>120.099998</td>\n",
       "      <td>121.110001</td>\n",
       "      <td>120.070000</td>\n",
       "      <td>120.860001</td>\n",
       "      <td>98.780228</td>\n",
       "      <td>193775000</td>\n",
       "      <td>-0.017107</td>\n",
       "      <td>118.891334</td>\n",
       "      <td>120.360999</td>\n",
       "      <td>1</td>\n",
       "    </tr>\n",
       "    <tr>\n",
       "      <th>2010-04-30</th>\n",
       "      <td>120.879997</td>\n",
       "      <td>121.010002</td>\n",
       "      <td>118.779999</td>\n",
       "      <td>118.809998</td>\n",
       "      <td>97.104759</td>\n",
       "      <td>270000900</td>\n",
       "      <td>0.012879</td>\n",
       "      <td>118.950333</td>\n",
       "      <td>120.305999</td>\n",
       "      <td>1</td>\n",
       "    </tr>\n",
       "    <tr>\n",
       "      <th>2010-05-03</th>\n",
       "      <td>119.379997</td>\n",
       "      <td>120.680000</td>\n",
       "      <td>119.199997</td>\n",
       "      <td>120.349998</td>\n",
       "      <td>98.363426</td>\n",
       "      <td>182747900</td>\n",
       "      <td>-0.023796</td>\n",
       "      <td>119.096333</td>\n",
       "      <td>120.359999</td>\n",
       "      <td>1</td>\n",
       "    </tr>\n",
       "    <tr>\n",
       "      <th>2010-05-04</th>\n",
       "      <td>119.010002</td>\n",
       "      <td>119.029999</td>\n",
       "      <td>116.919998</td>\n",
       "      <td>117.519997</td>\n",
       "      <td>96.050430</td>\n",
       "      <td>360353400</td>\n",
       "      <td>-0.005974</td>\n",
       "      <td>119.127333</td>\n",
       "      <td>120.023999</td>\n",
       "      <td>1</td>\n",
       "    </tr>\n",
       "    <tr>\n",
       "      <th>2010-05-05</th>\n",
       "      <td>116.559998</td>\n",
       "      <td>117.800003</td>\n",
       "      <td>115.970001</td>\n",
       "      <td>116.820000</td>\n",
       "      <td>95.478325</td>\n",
       "      <td>328973200</td>\n",
       "      <td>-0.033778</td>\n",
       "      <td>119.107667</td>\n",
       "      <td>119.639999</td>\n",
       "      <td>1</td>\n",
       "    </tr>\n",
       "    <tr>\n",
       "      <th>2010-05-06</th>\n",
       "      <td>116.260002</td>\n",
       "      <td>117.000000</td>\n",
       "      <td>105.000000</td>\n",
       "      <td>112.940002</td>\n",
       "      <td>92.307137</td>\n",
       "      <td>647356600</td>\n",
       "      <td>-0.014987</td>\n",
       "      <td>118.977667</td>\n",
       "      <td>118.831999</td>\n",
       "      <td>0</td>\n",
       "    </tr>\n",
       "    <tr>\n",
       "      <th>2010-05-07</th>\n",
       "      <td>112.639999</td>\n",
       "      <td>113.769997</td>\n",
       "      <td>109.410004</td>\n",
       "      <td>111.260002</td>\n",
       "      <td>90.934059</td>\n",
       "      <td>637558800</td>\n",
       "      <td>0.043099</td>\n",
       "      <td>118.798000</td>\n",
       "      <td>117.777000</td>\n",
       "      <td>0</td>\n",
       "    </tr>\n",
       "    <tr>\n",
       "      <th>2010-05-10</th>\n",
       "      <td>115.809998</td>\n",
       "      <td>116.650002</td>\n",
       "      <td>114.910004</td>\n",
       "      <td>116.160004</td>\n",
       "      <td>94.938896</td>\n",
       "      <td>396159600</td>\n",
       "      <td>-0.002845</td>\n",
       "      <td>118.784000</td>\n",
       "      <td>117.258000</td>\n",
       "      <td>0</td>\n",
       "    </tr>\n",
       "    <tr>\n",
       "      <th>2010-05-11</th>\n",
       "      <td>115.070000</td>\n",
       "      <td>117.360001</td>\n",
       "      <td>114.910004</td>\n",
       "      <td>115.830002</td>\n",
       "      <td>94.669189</td>\n",
       "      <td>317849800</td>\n",
       "      <td>0.013889</td>\n",
       "      <td>118.734334</td>\n",
       "      <td>116.993000</td>\n",
       "      <td>0</td>\n",
       "    </tr>\n",
       "    <tr>\n",
       "      <th>2010-05-12</th>\n",
       "      <td>116.290001</td>\n",
       "      <td>117.620003</td>\n",
       "      <td>116.089996</td>\n",
       "      <td>117.449997</td>\n",
       "      <td>95.993225</td>\n",
       "      <td>235607100</td>\n",
       "      <td>-0.012509</td>\n",
       "      <td>118.736000</td>\n",
       "      <td>116.800000</td>\n",
       "      <td>0</td>\n",
       "    </tr>\n",
       "  </tbody>\n",
       "</table>\n",
       "</div>"
      ],
      "text/plain": [
       "                  Open        High         Low       Close  Adj Close  \\\n",
       "Date                                                                    \n",
       "2010-04-29  120.099998  121.110001  120.070000  120.860001  98.780228   \n",
       "2010-04-30  120.879997  121.010002  118.779999  118.809998  97.104759   \n",
       "2010-05-03  119.379997  120.680000  119.199997  120.349998  98.363426   \n",
       "2010-05-04  119.010002  119.029999  116.919998  117.519997  96.050430   \n",
       "2010-05-05  116.559998  117.800003  115.970001  116.820000  95.478325   \n",
       "2010-05-06  116.260002  117.000000  105.000000  112.940002  92.307137   \n",
       "2010-05-07  112.639999  113.769997  109.410004  111.260002  90.934059   \n",
       "2010-05-10  115.809998  116.650002  114.910004  116.160004  94.938896   \n",
       "2010-05-11  115.070000  117.360001  114.910004  115.830002  94.669189   \n",
       "2010-05-12  116.290001  117.620003  116.089996  117.449997  95.993225   \n",
       "\n",
       "               Volume  LogReturn     SlowSMA     FastSMA  Signal  \n",
       "Date                                                              \n",
       "2010-04-29  193775000  -0.017107  118.891334  120.360999       1  \n",
       "2010-04-30  270000900   0.012879  118.950333  120.305999       1  \n",
       "2010-05-03  182747900  -0.023796  119.096333  120.359999       1  \n",
       "2010-05-04  360353400  -0.005974  119.127333  120.023999       1  \n",
       "2010-05-05  328973200  -0.033778  119.107667  119.639999       1  \n",
       "2010-05-06  647356600  -0.014987  118.977667  118.831999       0  \n",
       "2010-05-07  637558800   0.043099  118.798000  117.777000       0  \n",
       "2010-05-10  396159600  -0.002845  118.784000  117.258000       0  \n",
       "2010-05-11  317849800   0.013889  118.734334  116.993000       0  \n",
       "2010-05-12  235607100  -0.012509  118.736000  116.800000       0  "
      ]
     },
     "execution_count": 13,
     "metadata": {},
     "output_type": "execute_result"
    }
   ],
   "source": [
    "df.iloc[80:].head(10)"
   ]
  },
  {
   "cell_type": "code",
   "execution_count": null,
   "metadata": {
    "id": "QtPZMxNelcSA"
   },
   "outputs": [],
   "source": [
    "df['PrevSignal'] = df['Signal'].shift(1)\n",
    "df['Buy'] = (df['PrevSignal'] == 0) & (df['Signal'] == 1) # Fast < Slow --> Fast > Slow\n",
    "df['Sell'] = (df['PrevSignal'] == 1) & (df['Signal'] == 0) # Fast > Slow --> Fast < Slow"
   ]
  },
  {
   "cell_type": "code",
   "execution_count": null,
   "metadata": {
    "colab": {
     "base_uri": "https://localhost:8080/",
     "height": 390
    },
    "id": "YCykCHotliEN",
    "outputId": "090925d2-0a61-4946-a6b7-fb4079c47c0f"
   },
   "outputs": [
    {
     "data": {
      "text/html": [
       "<div>\n",
       "<style scoped>\n",
       "    .dataframe tbody tr th:only-of-type {\n",
       "        vertical-align: middle;\n",
       "    }\n",
       "\n",
       "    .dataframe tbody tr th {\n",
       "        vertical-align: top;\n",
       "    }\n",
       "\n",
       "    .dataframe thead th {\n",
       "        text-align: right;\n",
       "    }\n",
       "</style>\n",
       "<table border=\"1\" class=\"dataframe\">\n",
       "  <thead>\n",
       "    <tr style=\"text-align: right;\">\n",
       "      <th></th>\n",
       "      <th>Open</th>\n",
       "      <th>High</th>\n",
       "      <th>Low</th>\n",
       "      <th>Close</th>\n",
       "      <th>Adj Close</th>\n",
       "      <th>Volume</th>\n",
       "      <th>LogReturn</th>\n",
       "      <th>SlowSMA</th>\n",
       "      <th>FastSMA</th>\n",
       "      <th>Signal</th>\n",
       "      <th>PrevSignal</th>\n",
       "      <th>Buy</th>\n",
       "      <th>Sell</th>\n",
       "    </tr>\n",
       "    <tr>\n",
       "      <th>Date</th>\n",
       "      <th></th>\n",
       "      <th></th>\n",
       "      <th></th>\n",
       "      <th></th>\n",
       "      <th></th>\n",
       "      <th></th>\n",
       "      <th></th>\n",
       "      <th></th>\n",
       "      <th></th>\n",
       "      <th></th>\n",
       "      <th></th>\n",
       "      <th></th>\n",
       "      <th></th>\n",
       "    </tr>\n",
       "  </thead>\n",
       "  <tbody>\n",
       "    <tr>\n",
       "      <th>2010-04-29</th>\n",
       "      <td>120.099998</td>\n",
       "      <td>121.110001</td>\n",
       "      <td>120.070000</td>\n",
       "      <td>120.860001</td>\n",
       "      <td>98.780228</td>\n",
       "      <td>193775000</td>\n",
       "      <td>-0.017107</td>\n",
       "      <td>118.891334</td>\n",
       "      <td>120.360999</td>\n",
       "      <td>1</td>\n",
       "      <td>1.0</td>\n",
       "      <td>False</td>\n",
       "      <td>False</td>\n",
       "    </tr>\n",
       "    <tr>\n",
       "      <th>2010-04-30</th>\n",
       "      <td>120.879997</td>\n",
       "      <td>121.010002</td>\n",
       "      <td>118.779999</td>\n",
       "      <td>118.809998</td>\n",
       "      <td>97.104759</td>\n",
       "      <td>270000900</td>\n",
       "      <td>0.012879</td>\n",
       "      <td>118.950333</td>\n",
       "      <td>120.305999</td>\n",
       "      <td>1</td>\n",
       "      <td>1.0</td>\n",
       "      <td>False</td>\n",
       "      <td>False</td>\n",
       "    </tr>\n",
       "    <tr>\n",
       "      <th>2010-05-03</th>\n",
       "      <td>119.379997</td>\n",
       "      <td>120.680000</td>\n",
       "      <td>119.199997</td>\n",
       "      <td>120.349998</td>\n",
       "      <td>98.363426</td>\n",
       "      <td>182747900</td>\n",
       "      <td>-0.023796</td>\n",
       "      <td>119.096333</td>\n",
       "      <td>120.359999</td>\n",
       "      <td>1</td>\n",
       "      <td>1.0</td>\n",
       "      <td>False</td>\n",
       "      <td>False</td>\n",
       "    </tr>\n",
       "    <tr>\n",
       "      <th>2010-05-04</th>\n",
       "      <td>119.010002</td>\n",
       "      <td>119.029999</td>\n",
       "      <td>116.919998</td>\n",
       "      <td>117.519997</td>\n",
       "      <td>96.050430</td>\n",
       "      <td>360353400</td>\n",
       "      <td>-0.005974</td>\n",
       "      <td>119.127333</td>\n",
       "      <td>120.023999</td>\n",
       "      <td>1</td>\n",
       "      <td>1.0</td>\n",
       "      <td>False</td>\n",
       "      <td>False</td>\n",
       "    </tr>\n",
       "    <tr>\n",
       "      <th>2010-05-05</th>\n",
       "      <td>116.559998</td>\n",
       "      <td>117.800003</td>\n",
       "      <td>115.970001</td>\n",
       "      <td>116.820000</td>\n",
       "      <td>95.478325</td>\n",
       "      <td>328973200</td>\n",
       "      <td>-0.033778</td>\n",
       "      <td>119.107667</td>\n",
       "      <td>119.639999</td>\n",
       "      <td>1</td>\n",
       "      <td>1.0</td>\n",
       "      <td>False</td>\n",
       "      <td>False</td>\n",
       "    </tr>\n",
       "    <tr>\n",
       "      <th>2010-05-06</th>\n",
       "      <td>116.260002</td>\n",
       "      <td>117.000000</td>\n",
       "      <td>105.000000</td>\n",
       "      <td>112.940002</td>\n",
       "      <td>92.307137</td>\n",
       "      <td>647356600</td>\n",
       "      <td>-0.014987</td>\n",
       "      <td>118.977667</td>\n",
       "      <td>118.831999</td>\n",
       "      <td>0</td>\n",
       "      <td>1.0</td>\n",
       "      <td>False</td>\n",
       "      <td>True</td>\n",
       "    </tr>\n",
       "    <tr>\n",
       "      <th>2010-05-07</th>\n",
       "      <td>112.639999</td>\n",
       "      <td>113.769997</td>\n",
       "      <td>109.410004</td>\n",
       "      <td>111.260002</td>\n",
       "      <td>90.934059</td>\n",
       "      <td>637558800</td>\n",
       "      <td>0.043099</td>\n",
       "      <td>118.798000</td>\n",
       "      <td>117.777000</td>\n",
       "      <td>0</td>\n",
       "      <td>0.0</td>\n",
       "      <td>False</td>\n",
       "      <td>False</td>\n",
       "    </tr>\n",
       "    <tr>\n",
       "      <th>2010-05-10</th>\n",
       "      <td>115.809998</td>\n",
       "      <td>116.650002</td>\n",
       "      <td>114.910004</td>\n",
       "      <td>116.160004</td>\n",
       "      <td>94.938896</td>\n",
       "      <td>396159600</td>\n",
       "      <td>-0.002845</td>\n",
       "      <td>118.784000</td>\n",
       "      <td>117.258000</td>\n",
       "      <td>0</td>\n",
       "      <td>0.0</td>\n",
       "      <td>False</td>\n",
       "      <td>False</td>\n",
       "    </tr>\n",
       "    <tr>\n",
       "      <th>2010-05-11</th>\n",
       "      <td>115.070000</td>\n",
       "      <td>117.360001</td>\n",
       "      <td>114.910004</td>\n",
       "      <td>115.830002</td>\n",
       "      <td>94.669189</td>\n",
       "      <td>317849800</td>\n",
       "      <td>0.013889</td>\n",
       "      <td>118.734334</td>\n",
       "      <td>116.993000</td>\n",
       "      <td>0</td>\n",
       "      <td>0.0</td>\n",
       "      <td>False</td>\n",
       "      <td>False</td>\n",
       "    </tr>\n",
       "    <tr>\n",
       "      <th>2010-05-12</th>\n",
       "      <td>116.290001</td>\n",
       "      <td>117.620003</td>\n",
       "      <td>116.089996</td>\n",
       "      <td>117.449997</td>\n",
       "      <td>95.993225</td>\n",
       "      <td>235607100</td>\n",
       "      <td>-0.012509</td>\n",
       "      <td>118.736000</td>\n",
       "      <td>116.800000</td>\n",
       "      <td>0</td>\n",
       "      <td>0.0</td>\n",
       "      <td>False</td>\n",
       "      <td>False</td>\n",
       "    </tr>\n",
       "  </tbody>\n",
       "</table>\n",
       "</div>"
      ],
      "text/plain": [
       "                  Open        High         Low  ...  PrevSignal    Buy   Sell\n",
       "Date                                            ...                          \n",
       "2010-04-29  120.099998  121.110001  120.070000  ...         1.0  False  False\n",
       "2010-04-30  120.879997  121.010002  118.779999  ...         1.0  False  False\n",
       "2010-05-03  119.379997  120.680000  119.199997  ...         1.0  False  False\n",
       "2010-05-04  119.010002  119.029999  116.919998  ...         1.0  False  False\n",
       "2010-05-05  116.559998  117.800003  115.970001  ...         1.0  False  False\n",
       "2010-05-06  116.260002  117.000000  105.000000  ...         1.0  False   True\n",
       "2010-05-07  112.639999  113.769997  109.410004  ...         0.0  False  False\n",
       "2010-05-10  115.809998  116.650002  114.910004  ...         0.0  False  False\n",
       "2010-05-11  115.070000  117.360001  114.910004  ...         0.0  False  False\n",
       "2010-05-12  116.290001  117.620003  116.089996  ...         0.0  False  False\n",
       "\n",
       "[10 rows x 13 columns]"
      ]
     },
     "execution_count": 15,
     "metadata": {
      "tags": []
     },
     "output_type": "execute_result"
    }
   ],
   "source": [
    "df.iloc[80:].head(10)"
   ]
  },
  {
   "cell_type": "code",
   "execution_count": null,
   "metadata": {
    "id": "nLwYDgLOlmds"
   },
   "outputs": [],
   "source": [
    "is_invested = False\n",
    "def assign_is_invested(row):\n",
    "  global is_invested\n",
    "  if is_invested and row['Sell']:\n",
    "    is_invested = False\n",
    "  if not is_invested and row['Buy']:\n",
    "    is_invested = True\n",
    "  \n",
    "  # otherwise, just remain\n",
    "  return is_invested\n",
    "\n",
    "df['IsInvested'] = df.apply(assign_is_invested, axis=1)"
   ]
  },
  {
   "cell_type": "code",
   "execution_count": null,
   "metadata": {
    "id": "kAkp_zmMlp_l"
   },
   "outputs": [],
   "source": [
    "df['AlgoLogReturn'] = df['IsInvested'] * df['LogReturn']"
   ]
  },
  {
   "cell_type": "code",
   "execution_count": null,
   "metadata": {
    "colab": {
     "base_uri": "https://localhost:8080/"
    },
    "id": "nxsKOXQmltkh",
    "outputId": "8924913a-b74b-4eb4-c9cc-9c420aec4d22"
   },
   "outputs": [
    {
     "data": {
      "text/plain": [
       "0.3049019540291429"
      ]
     },
     "execution_count": 18,
     "metadata": {
      "tags": []
     },
     "output_type": "execute_result"
    }
   ],
   "source": [
    "# Total algo log return\n",
    "df['AlgoLogReturn'].sum()"
   ]
  },
  {
   "cell_type": "code",
   "execution_count": null,
   "metadata": {
    "colab": {
     "base_uri": "https://localhost:8080/"
    },
    "id": "Ghu5zMJ5luiA",
    "outputId": "c98252d2-ec70-4e35-8a56-738fea2bde2f"
   },
   "outputs": [
    {
     "data": {
      "text/plain": [
       "0.7821162403084001"
      ]
     },
     "execution_count": 19,
     "metadata": {
      "tags": []
     },
     "output_type": "execute_result"
    }
   ],
   "source": [
    "# Total return buy-and-hold\n",
    "df['LogReturn'].sum()"
   ]
  },
  {
   "cell_type": "code",
   "execution_count": null,
   "metadata": {
    "colab": {
     "base_uri": "https://localhost:8080/"
    },
    "id": "oyNeRZhulzVH",
    "outputId": "5bd37c3d-2bfd-4805-8d04-5094c6d38d6b"
   },
   "outputs": [
    {
     "data": {
      "text/plain": [
       "(0.006089880064170894, 0.02213394709006064)"
      ]
     },
     "execution_count": 20,
     "metadata": {
      "tags": []
     },
     "output_type": "execute_result"
    }
   ],
   "source": [
    "df['AlgoLogReturn'].std(), df['AlgoLogReturn'].mean()/df['AlgoLogReturn'].std()"
   ]
  },
  {
   "cell_type": "code",
   "execution_count": null,
   "metadata": {
    "colab": {
     "base_uri": "https://localhost:8080/"
    },
    "id": "hcVIUMjbl1Sa",
    "outputId": "fa4d584a-f199-4c20-c171-22471ab25df3"
   },
   "outputs": [
    {
     "data": {
      "text/plain": [
       "(0.009446971193167578, 0.03660042364089666)"
      ]
     },
     "execution_count": 21,
     "metadata": {
      "tags": []
     },
     "output_type": "execute_result"
    }
   ],
   "source": [
    "df['LogReturn'].std(), df['LogReturn'].mean()/df['LogReturn'].std()"
   ]
  },
  {
   "cell_type": "markdown",
   "metadata": {
    "id": "3fjkk53Bl5oo"
   },
   "source": [
    "## Searching for Fast and Slow Hyperparameters"
   ]
  },
  {
   "cell_type": "code",
   "execution_count": null,
   "metadata": {
    "id": "rjf5gv22l5-f"
   },
   "outputs": [],
   "source": [
    "# Start by writing a function to plug in parameters and obtain score\n",
    "Ntest = 1000\n",
    "def trend_following(df, fast, slow):\n",
    "  global is_invested\n",
    "  df['SlowSMA'] = df['Close'].rolling(slow).mean()\n",
    "  df['FastSMA'] = df['Close'].rolling(fast).mean()\n",
    "  df['Signal'] = np.where(df['FastSMA'] >= df['SlowSMA'], 1, 0)\n",
    "  df['PrevSignal'] = df['Signal'].shift(1)\n",
    "  df['Buy'] = (df['PrevSignal'] == 0) & (df['Signal'] == 1) # Fast < Slow --> Fast > Slow\n",
    "  df['Sell'] = (df['PrevSignal'] == 1) & (df['Signal'] == 0) # Fast > Slow --> Fast < Slow\n",
    "\n",
    "  # Split into train and test\n",
    "  train = df.iloc[:-Ntest]\n",
    "  test = df.iloc[-Ntest:]\n",
    "\n",
    "  train_idx = df.index <= train.index[-1]\n",
    "  test_idx = df.index > train.index[-1]\n",
    "\n",
    "  is_invested = False\n",
    "  df.loc[train_idx,'IsInvested'] = train.apply(assign_is_invested, axis=1)\n",
    "  df.loc[train_idx,'AlgoLogReturn'] = train['IsInvested'] * train['LogReturn']\n",
    "\n",
    "  is_invested = False\n",
    "  df.loc[test_idx,'IsInvested'] = test.apply(assign_is_invested, axis=1)\n",
    "  df.loc[test_idx,'AlgoLogReturn'] = test['IsInvested'] * test['LogReturn']\n",
    "\n",
    "  return train['AlgoLogReturn'][:-1].sum(), test['AlgoLogReturn'][:-1].sum()"
   ]
  },
  {
   "cell_type": "code",
   "execution_count": null,
   "metadata": {
    "colab": {
     "base_uri": "https://localhost:8080/"
    },
    "id": "eIMoSKrJmlX9",
    "outputId": "25445440-7cd8-4491-edc4-a0f98f28fb9f"
   },
   "outputs": [
    {
     "data": {
      "text/plain": [
       "(0.21371231572708904, 0.09118963830205384)"
      ]
     },
     "execution_count": 32,
     "metadata": {
      "tags": []
     },
     "output_type": "execute_result"
    }
   ],
   "source": [
    "trend_following(df, 10, 30)"
   ]
  },
  {
   "cell_type": "code",
   "execution_count": null,
   "metadata": {
    "colab": {
     "base_uri": "https://localhost:8080/"
    },
    "id": "p6W5zP-6npg0",
    "outputId": "56e599af-fb84-4d6a-cdba-53a77912778c"
   },
   "outputs": [
    {
     "data": {
      "text/plain": [
       "(16, 33, (0.43459304796456966, 0.08889132894199214))"
      ]
     },
     "execution_count": 33,
     "metadata": {
      "tags": []
     },
     "output_type": "execute_result"
    }
   ],
   "source": [
    "# Let's do a grid search\n",
    "best_fast = None\n",
    "best_slow = None\n",
    "best_score = float('-inf')\n",
    "for fast in range(3, 30):\n",
    "  for slow in range(fast + 5, 50):\n",
    "    score, _ = trend_following(df, fast, slow)\n",
    "    if score > best_score:\n",
    "      best_fast = fast\n",
    "      best_slow = slow\n",
    "      best_score = score\n",
    "best_fast, best_slow, trend_following(df, best_fast, best_slow)"
   ]
  },
  {
   "cell_type": "code",
   "execution_count": null,
   "metadata": {
    "id": "W3bumja8oY8g"
   },
   "outputs": [],
   "source": [
    "train = df.iloc[:-Ntest].copy()\n",
    "test = df.iloc[-Ntest:].copy()"
   ]
  },
  {
   "cell_type": "code",
   "execution_count": null,
   "metadata": {
    "colab": {
     "base_uri": "https://localhost:8080/"
    },
    "id": "VR2EZDQLog8z",
    "outputId": "ad7c2bbb-504a-48f4-d077-f88ff30e9f96"
   },
   "outputs": [
    {
     "data": {
      "text/plain": [
       "0.5970866514889392"
      ]
     },
     "execution_count": 35,
     "metadata": {
      "tags": []
     },
     "output_type": "execute_result"
    }
   ],
   "source": [
    "# Total return buy-and-hold train\n",
    "train['LogReturn'][:-1].sum()"
   ]
  },
  {
   "cell_type": "code",
   "execution_count": null,
   "metadata": {
    "colab": {
     "base_uri": "https://localhost:8080/"
    },
    "id": "ueaaEtErolu3",
    "outputId": "69af585e-f207-4c5a-efc7-8db8da21355f"
   },
   "outputs": [
    {
     "data": {
      "text/plain": [
       "0.19307543946998518"
      ]
     },
     "execution_count": 36,
     "metadata": {
      "tags": []
     },
     "output_type": "execute_result"
    }
   ],
   "source": [
    "# Total return buy-and-hold test\n",
    "# Note: last value is NaN, just doing this for the sake of uniformity\n",
    "test['LogReturn'][:-1].sum()"
   ]
  },
  {
   "cell_type": "code",
   "execution_count": null,
   "metadata": {
    "colab": {
     "base_uri": "https://localhost:8080/"
    },
    "id": "DpJj4Vkcoq5X",
    "outputId": "a9c10d0e-836a-4814-f672-558f8aa2482b"
   },
   "outputs": [
    {
     "data": {
      "text/plain": [
       "(0.049489198368311275, 0.04642867836819648)"
      ]
     },
     "execution_count": 37,
     "metadata": {
      "tags": []
     },
     "output_type": "execute_result"
    }
   ],
   "source": [
    "# SR algo vs. SR buy-and-hold train\n",
    "train['AlgoLogReturn'].mean()/train['AlgoLogReturn'].std(), train['LogReturn'].mean()/train['LogReturn'].std()"
   ]
  },
  {
   "cell_type": "code",
   "execution_count": null,
   "metadata": {
    "colab": {
     "base_uri": "https://localhost:8080/"
    },
    "id": "RDSqW_QAovoK",
    "outputId": "7bf854ea-564f-4dfe-bbd4-ec05cf5ba673"
   },
   "outputs": [
    {
     "data": {
      "text/plain": [
       "(0.016179303103405873, 0.022384106381325427)"
      ]
     },
     "execution_count": 38,
     "metadata": {
      "tags": []
     },
     "output_type": "execute_result"
    }
   ],
   "source": [
    "# SR algo vs. SR buy-and-hold test\n",
    "test['AlgoLogReturn'].mean()/test['AlgoLogReturn'].std(), test['LogReturn'].mean()/test['LogReturn'].std()"
   ]
  },
  {
   "cell_type": "code",
   "execution_count": null,
   "metadata": {
    "colab": {
     "base_uri": "https://localhost:8080/",
     "height": 563
    },
    "id": "Br8aR799o1n2",
    "outputId": "2301caf0-d3cd-4061-83f2-b5e7f1840f6d"
   },
   "outputs": [
    {
     "data": {
      "image/png": "[encoded data removed]",
      "text/plain": [
       "<Figure size 1440x720 with 1 Axes>"
      ]
     },
     "metadata": {
      "needs_background": "light",
      "tags": []
     },
     "output_type": "display_data"
    }
   ],
   "source": [
    "# Wealth over time\n",
    "train['CumLogReturn'] = train['AlgoLogReturn'].cumsum().shift(1)\n",
    "train['CumWealth'] = train.iloc[0]['Close'] * np.exp(train['CumLogReturn'])\n",
    "train[['Close', 'SlowSMA', 'FastSMA', 'CumWealth']].plot(figsize=(20,10));"
   ]
  }
 ],
 "metadata": {
  "colab": {
   "collapsed_sections": [],
   "name": "Trend Following Strategy SMA.ipynb",
   "provenance": []
  },
  "kernelspec": {
   "display_name": "Python 3",
   "language": "python",
   "name": "python3"
  },
  "language_info": {
   "codemirror_mode": {
    "name": "ipython",
    "version": 3
   },
   "file_extension": ".py",
   "mimetype": "text/x-python",
   "name": "python",
   "nbconvert_exporter": "python",
   "pygments_lexer": "ipython3",
   "version": "3.8.10"
  }
 },
 "nbformat": 4,
 "nbformat_minor": 1
}
