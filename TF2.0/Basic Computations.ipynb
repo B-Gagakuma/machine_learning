{
 "cells": [
  {
   "cell_type": "code",
   "execution_count": 13,
   "id": "indie-dakota",
   "metadata": {},
   "outputs": [],
   "source": [
    "import tensorflow as tf\n",
    "import numpy as np"
   ]
  },
  {
   "cell_type": "code",
   "execution_count": 8,
   "id": "dressed-philadelphia",
   "metadata": {},
   "outputs": [
    {
     "name": "stdout",
     "output_type": "stream",
     "text": [
      "c:  tf.Tensor(5.0, shape=(), dtype=float32)\n",
      "c: 5.0\n"
     ]
    }
   ],
   "source": [
    "a = tf.constant(3.0)\n",
    "b = tf.constant(4.0)\n",
    "c = tf.sqrt(a**2 + b**2)\n",
    "\n",
    "print('c: ', c)\n",
    "print(f'c: {c}')"
   ]
  },
  {
   "cell_type": "code",
   "execution_count": 10,
   "id": "plastic-rebate",
   "metadata": {},
   "outputs": [
    {
     "data": {
      "text/plain": [
       "numpy.float32"
      ]
     },
     "execution_count": 10,
     "metadata": {},
     "output_type": "execute_result"
    }
   ],
   "source": [
    "# numpy representation\n",
    "c.numpy()\n",
    "type(c.numpy())"
   ]
  },
  {
   "cell_type": "code",
   "execution_count": 11,
   "id": "familiar-ensemble",
   "metadata": {},
   "outputs": [
    {
     "name": "stdout",
     "output_type": "stream",
     "text": [
      "c: 32\n"
     ]
    }
   ],
   "source": [
    "a = tf.constant([1,2,3])\n",
    "b = tf.constant([4,5,6])\n",
    "c = tf.tensordot(a, b, axes=[0,0])\n",
    "print(f'c: {c}')"
   ]
  },
  {
   "cell_type": "code",
   "execution_count": 12,
   "id": "advisory-signature",
   "metadata": {},
   "outputs": [
    {
     "data": {
      "text/plain": [
       "32"
      ]
     },
     "execution_count": 12,
     "metadata": {},
     "output_type": "execute_result"
    }
   ],
   "source": [
    "# in numpy\n",
    "a.numpy().dot(b.numpy())"
   ]
  },
  {
   "cell_type": "code",
   "execution_count": 15,
   "id": "following-messaging",
   "metadata": {},
   "outputs": [
    {
     "name": "stdout",
     "output_type": "stream",
     "text": [
      "c0: [[ 0.4218796 ]\n",
      " [-0.6148737 ]\n",
      " [-0.68613052]]\n"
     ]
    }
   ],
   "source": [
    "A0 = np.random.randn(3,3)\n",
    "b0 = np.random.randn(3,1)\n",
    "c0 = A0.dot(b0)\n",
    "print(f'c0: {c0}')"
   ]
  },
  {
   "cell_type": "code",
   "execution_count": 16,
   "id": "olive-schema",
   "metadata": {},
   "outputs": [
    {
     "name": "stdout",
     "output_type": "stream",
     "text": [
      "c: [[ 0.4218796 ]\n",
      " [-0.6148737 ]\n",
      " [-0.68613052]]\n"
     ]
    }
   ],
   "source": [
    "A = tf.constant(A0)\n",
    "b = tf.constant(b0)\n",
    "c = tf.matmul(A, b)\n",
    "print(f'c: {c}')"
   ]
  },
  {
   "cell_type": "code",
   "execution_count": 18,
   "id": "criminal-subject",
   "metadata": {},
   "outputs": [
    {
     "name": "stdout",
     "output_type": "stream",
     "text": [
      "C: [[2 3]\n",
      " [4 5]]\n"
     ]
    }
   ],
   "source": [
    "A = tf.constant([[1,2], [3,4]])\n",
    "b = tf.constant(1)\n",
    "C = A + b\n",
    "print(f'C: {C}')"
   ]
  },
  {
   "cell_type": "code",
   "execution_count": 23,
   "id": "together-cambridge",
   "metadata": {},
   "outputs": [
    {
     "name": "stdout",
     "output_type": "stream",
     "text": [
      "C:[[ 2  6]\n",
      " [12 20]]\n"
     ]
    }
   ],
   "source": [
    "# elementwise multiplication\n",
    "A = tf.constant([[1,2], [3,4]])\n",
    "B = tf.constant([[2,3], [4,5]])\n",
    "C = A * B\n",
    "print(f'C:{C}')"
   ]
  },
  {
   "cell_type": "code",
   "execution_count": null,
   "id": "historical-poultry",
   "metadata": {},
   "outputs": [],
   "source": []
  },
  {
   "cell_type": "code",
   "execution_count": null,
   "id": "heated-positive",
   "metadata": {},
   "outputs": [],
   "source": []
  }
 ],
 "metadata": {
  "kernelspec": {
   "display_name": "Python 3",
   "language": "python",
   "name": "python3"
  },
  "language_info": {
   "codemirror_mode": {
    "name": "ipython",
    "version": 3
   },
   "file_extension": ".py",
   "mimetype": "text/x-python",
   "name": "python",
   "nbconvert_exporter": "python",
   "pygments_lexer": "ipython3",
   "version": "3.8.10"
  }
 },
 "nbformat": 4,
 "nbformat_minor": 5
}
