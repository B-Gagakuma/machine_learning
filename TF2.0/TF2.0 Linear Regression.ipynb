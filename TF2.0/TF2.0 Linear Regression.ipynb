{
 "cells": [
  {
   "cell_type": "code",
   "execution_count": 1,
   "id": "loose-fruit",
   "metadata": {},
   "outputs": [],
   "source": [
    "import numpy as np\n",
    "import pandas as pd\n",
    "import tensorflow as tf\n",
    "import matplotlib.pyplot as plt\n"
   ]
  },
  {
   "cell_type": "code",
   "execution_count": 2,
   "id": "english-salad",
   "metadata": {},
   "outputs": [
    {
     "name": "stdout",
     "output_type": "stream",
     "text": [
      "--2021-04-29 15:09:00--  https://raw.githubusercontent.com/lazyprogrammer/machine_learning_examples/master/tf2.0/moore.csv\n",
      "Resolving raw.githubusercontent.com (raw.githubusercontent.com)... 185.199.111.133, 185.199.108.133, 185.199.109.133, ...\n",
      "Connecting to raw.githubusercontent.com (raw.githubusercontent.com)|185.199.111.133|:443... connected.\n",
      "HTTP request sent, awaiting response... 200 OK\n",
      "Length: 2302 (2.2K) [text/plain]\n",
      "Saving to: ‘moore.csv.1’\n",
      "\n",
      "moore.csv.1         100%[===================>]   2.25K  --.-KB/s    in 0s      \n",
      "\n",
      "2021-04-29 15:09:00 (17.2 MB/s) - ‘moore.csv.1’ saved [2302/2302]\n",
      "\n"
     ]
    }
   ],
   "source": [
    "# Get the data\n",
    "!wget https://raw.githubusercontent.com/lazyprogrammer/machine_learning_examples/master/tf2.0/moore.csv"
   ]
  },
  {
   "cell_type": "code",
   "execution_count": 19,
   "id": "affiliated-assets",
   "metadata": {},
   "outputs": [],
   "source": [
    "# Load the data\n",
    "data = pd.read_csv(\"moore.csv\", header=None).values\n",
    "X = data[:, 0].reshape(-1, 1) # make it a 2D array of size N x D where D = 1 (right now it's (N,))\n",
    "# print(X)\n",
    "Y = data[:, 1]"
   ]
  },
  {
   "cell_type": "code",
   "execution_count": 20,
   "id": "southeast-ballet",
   "metadata": {},
   "outputs": [
    {
     "data": {
      "text/plain": [
       "<matplotlib.collections.PathCollection at 0x7f0bc65eb2e0>"
      ]
     },
     "execution_count": 20,
     "metadata": {},
     "output_type": "execute_result"
    },
    {
     "data": {
      "image/png": "[encoded data removed]",
      "text/plain": [
       "<Figure size 432x288 with 1 Axes>"
      ]
     },
     "metadata": {
      "needs_background": "light"
     },
     "output_type": "display_data"
    }
   ],
   "source": [
    "# Plot the data\n",
    "plt.scatter(X, Y, color=\"dodgerblue\", alpha=0.5)\n"
   ]
  },
  {
   "cell_type": "code",
   "execution_count": 21,
   "id": "signal-wallace",
   "metadata": {},
   "outputs": [
    {
     "data": {
      "text/plain": [
       "<matplotlib.collections.PathCollection at 0x7f0bc653ed30>"
      ]
     },
     "execution_count": 21,
     "metadata": {},
     "output_type": "execute_result"
    },
    {
     "data": {
      "image/png": "[encoded data removed]",
      "text/plain": [
       "<Figure size 432x288 with 1 Axes>"
      ]
     },
     "metadata": {
      "needs_background": "light"
     },
     "output_type": "display_data"
    }
   ],
   "source": [
    "# Take the log and plot since we want a linear model\n",
    "Y = np.log(Y)\n",
    "plt.scatter(X, Y, color=\"crimson\", alpha=0.5)"
   ]
  },
  {
   "cell_type": "code",
   "execution_count": 22,
   "id": "coupled-address",
   "metadata": {},
   "outputs": [],
   "source": [
    "# Center the X data so the values are not too large\n",
    "X = X - X.mean()"
   ]
  },
  {
   "cell_type": "code",
   "execution_count": 23,
   "id": "medical-rapid",
   "metadata": {},
   "outputs": [
    {
     "name": "stdout",
     "output_type": "stream",
     "text": [
      "Epoch 1/200\n",
      "6/6 [==============================] - 0s 530us/step - loss: 700.8771\n",
      "Epoch 2/200\n",
      "6/6 [==============================] - 0s 586us/step - loss: 729.9498\n",
      "Epoch 3/200\n",
      "6/6 [==============================] - 0s 636us/step - loss: 626.5621\n",
      "Epoch 4/200\n",
      "6/6 [==============================] - 0s 567us/step - loss: 422.5982\n",
      "Epoch 5/200\n",
      "6/6 [==============================] - 0s 584us/step - loss: 240.1176\n",
      "Epoch 6/200\n",
      "6/6 [==============================] - 0s 911us/step - loss: 177.2835\n",
      "Epoch 7/200\n",
      "6/6 [==============================] - 0s 612us/step - loss: 187.3074\n",
      "Epoch 8/200\n",
      "6/6 [==============================] - 0s 977us/step - loss: 209.0625\n",
      "Epoch 9/200\n",
      "6/6 [==============================] - 0s 605us/step - loss: 120.7400\n",
      "Epoch 10/200\n",
      "6/6 [==============================] - 0s 1ms/step - loss: 131.0907\n",
      "Epoch 11/200\n",
      "6/6 [==============================] - 0s 1ms/step - loss: 147.1075\n",
      "Epoch 12/200\n",
      "6/6 [==============================] - 0s 877us/step - loss: 64.3870\n",
      "Epoch 13/200\n",
      "6/6 [==============================] - 0s 1ms/step - loss: 33.9149\n",
      "Epoch 14/200\n",
      "6/6 [==============================] - 0s 1ms/step - loss: 22.6037\n",
      "Epoch 15/200\n",
      "6/6 [==============================] - 0s 856us/step - loss: 22.6061\n",
      "Epoch 16/200\n",
      "6/6 [==============================] - 0s 936us/step - loss: 17.8727\n",
      "Epoch 17/200\n",
      "6/6 [==============================] - 0s 818us/step - loss: 10.6472\n",
      "Epoch 18/200\n",
      "6/6 [==============================] - 0s 1ms/step - loss: 8.5237\n",
      "Epoch 19/200\n",
      "6/6 [==============================] - 0s 1ms/step - loss: 5.7757\n",
      "Epoch 20/200\n",
      "6/6 [==============================] - 0s 1ms/step - loss: 5.0876\n",
      "Epoch 21/200\n",
      "6/6 [==============================] - 0s 907us/step - loss: 4.6042\n",
      "Epoch 22/200\n",
      "6/6 [==============================] - 0s 1ms/step - loss: 4.6455\n",
      "Epoch 23/200\n",
      "6/6 [==============================] - 0s 953us/step - loss: 2.3794\n",
      "Epoch 24/200\n",
      "6/6 [==============================] - 0s 1ms/step - loss: 2.0761\n",
      "Epoch 25/200\n",
      "6/6 [==============================] - 0s 799us/step - loss: 2.1012\n",
      "Epoch 26/200\n",
      "6/6 [==============================] - 0s 1ms/step - loss: 2.1243\n",
      "Epoch 27/200\n",
      "6/6 [==============================] - 0s 760us/step - loss: 1.4790\n",
      "Epoch 28/200\n",
      "6/6 [==============================] - 0s 1ms/step - loss: 1.3250\n",
      "Epoch 29/200\n",
      "6/6 [==============================] - 0s 762us/step - loss: 1.0621\n",
      "Epoch 30/200\n",
      "6/6 [==============================] - 0s 1ms/step - loss: 0.9105\n",
      "Epoch 31/200\n",
      "6/6 [==============================] - 0s 921us/step - loss: 0.9495\n",
      "Epoch 32/200\n",
      "6/6 [==============================] - 0s 1ms/step - loss: 0.8717\n",
      "Epoch 33/200\n",
      "6/6 [==============================] - 0s 902us/step - loss: 1.0519\n",
      "Epoch 34/200\n",
      "6/6 [==============================] - 0s 1ms/step - loss: 0.9796\n",
      "Epoch 35/200\n",
      "6/6 [==============================] - 0s 1ms/step - loss: 1.1643\n",
      "Epoch 36/200\n",
      "6/6 [==============================] - 0s 911us/step - loss: 0.8314\n",
      "Epoch 37/200\n",
      "6/6 [==============================] - 0s 961us/step - loss: 1.0142\n",
      "Epoch 38/200\n",
      "6/6 [==============================] - 0s 825us/step - loss: 0.9327\n",
      "Epoch 39/200\n",
      "6/6 [==============================] - 0s 1ms/step - loss: 0.9611\n",
      "Epoch 40/200\n",
      "6/6 [==============================] - 0s 806us/step - loss: 0.7605\n",
      "Epoch 41/200\n",
      "6/6 [==============================] - 0s 1ms/step - loss: 0.9195\n",
      "Epoch 42/200\n",
      "6/6 [==============================] - 0s 784us/step - loss: 1.1485\n",
      "Epoch 43/200\n",
      "6/6 [==============================] - 0s 1ms/step - loss: 0.8505\n",
      "Epoch 44/200\n",
      "6/6 [==============================] - 0s 662us/step - loss: 0.9871\n",
      "Epoch 45/200\n",
      "6/6 [==============================] - 0s 1ms/step - loss: 1.1714\n",
      "Epoch 46/200\n",
      "6/6 [==============================] - 0s 668us/step - loss: 0.9338\n",
      "Epoch 47/200\n",
      "6/6 [==============================] - 0s 1ms/step - loss: 0.9921\n",
      "Epoch 48/200\n",
      "6/6 [==============================] - 0s 742us/step - loss: 0.8304\n",
      "Epoch 49/200\n",
      "6/6 [==============================] - 0s 1ms/step - loss: 0.7646\n",
      "Epoch 50/200\n",
      "6/6 [==============================] - 0s 828us/step - loss: 1.0203\n",
      "Epoch 51/200\n",
      "6/6 [==============================] - 0s 976us/step - loss: 1.1541\n",
      "Epoch 52/200\n",
      "6/6 [==============================] - 0s 801us/step - loss: 2.6838\n",
      "Epoch 53/200\n",
      "6/6 [==============================] - 0s 950us/step - loss: 1.2758\n",
      "Epoch 54/200\n",
      "6/6 [==============================] - 0s 860us/step - loss: 0.9458\n",
      "Epoch 55/200\n",
      "6/6 [==============================] - 0s 1ms/step - loss: 1.0751\n",
      "Epoch 56/200\n",
      "6/6 [==============================] - 0s 833us/step - loss: 1.0341\n",
      "Epoch 57/200\n",
      "6/6 [==============================] - 0s 1ms/step - loss: 0.7465\n",
      "Epoch 58/200\n",
      "6/6 [==============================] - 0s 939us/step - loss: 0.9640\n",
      "Epoch 59/200\n",
      "6/6 [==============================] - 0s 796us/step - loss: 0.8986\n",
      "Epoch 60/200\n",
      "6/6 [==============================] - 0s 902us/step - loss: 0.9513\n",
      "Epoch 61/200\n",
      "6/6 [==============================] - 0s 792us/step - loss: 0.8573\n",
      "Epoch 62/200\n",
      "6/6 [==============================] - 0s 950us/step - loss: 0.9472\n",
      "Epoch 63/200\n",
      "6/6 [==============================] - 0s 668us/step - loss: 0.9377\n",
      "Epoch 64/200\n",
      "6/6 [==============================] - 0s 925us/step - loss: 0.8913\n",
      "Epoch 65/200\n",
      "6/6 [==============================] - 0s 605us/step - loss: 0.7256\n",
      "Epoch 66/200\n",
      "6/6 [==============================] - 0s 955us/step - loss: 0.9854\n",
      "Epoch 67/200\n",
      "6/6 [==============================] - 0s 833us/step - loss: 0.8688\n",
      "Epoch 68/200\n",
      "6/6 [==============================] - 0s 645us/step - loss: 0.9229\n",
      "Epoch 69/200\n",
      "6/6 [==============================] - 0s 665us/step - loss: 0.9836\n",
      "Epoch 70/200\n",
      "6/6 [==============================] - 0s 577us/step - loss: 0.8751\n",
      "Epoch 71/200\n",
      "6/6 [==============================] - 0s 881us/step - loss: 0.8795\n",
      "Epoch 72/200\n",
      "6/6 [==============================] - 0s 677us/step - loss: 0.9446\n",
      "Epoch 73/200\n",
      "6/6 [==============================] - 0s 589us/step - loss: 0.9068\n",
      "Epoch 74/200\n",
      "6/6 [==============================] - 0s 902us/step - loss: 0.8017\n",
      "Epoch 75/200\n",
      "6/6 [==============================] - 0s 714us/step - loss: 1.0118\n",
      "Epoch 76/200\n",
      "6/6 [==============================] - 0s 1ms/step - loss: 0.8067\n",
      "Epoch 77/200\n",
      "6/6 [==============================] - 0s 697us/step - loss: 0.8898\n",
      "Epoch 78/200\n",
      "6/6 [==============================] - 0s 842us/step - loss: 0.8306\n",
      "Epoch 79/200\n",
      "6/6 [==============================] - 0s 912us/step - loss: 0.8554\n",
      "Epoch 80/200\n",
      "6/6 [==============================] - 0s 626us/step - loss: 0.9185\n",
      "Epoch 81/200\n",
      "6/6 [==============================] - 0s 862us/step - loss: 0.8116\n",
      "Epoch 82/200\n",
      "6/6 [==============================] - 0s 570us/step - loss: 0.9592\n",
      "Epoch 83/200\n",
      "6/6 [==============================] - 0s 837us/step - loss: 0.9482\n",
      "Epoch 84/200\n",
      "6/6 [==============================] - 0s 767us/step - loss: 0.9732\n",
      "Epoch 85/200\n",
      "6/6 [==============================] - 0s 617us/step - loss: 0.7950\n",
      "Epoch 86/200\n",
      "6/6 [==============================] - 0s 970us/step - loss: 0.8180\n",
      "Epoch 87/200\n",
      "6/6 [==============================] - 0s 702us/step - loss: 0.8191\n",
      "Epoch 88/200\n",
      "6/6 [==============================] - 0s 891us/step - loss: 1.0008\n",
      "Epoch 89/200\n",
      "6/6 [==============================] - 0s 864us/step - loss: 0.9256\n",
      "Epoch 90/200\n",
      "6/6 [==============================] - 0s 1ms/step - loss: 0.8345\n",
      "Epoch 91/200\n",
      "6/6 [==============================] - 0s 755us/step - loss: 0.8572\n",
      "Epoch 92/200\n",
      "6/6 [==============================] - 0s 592us/step - loss: 0.9925\n",
      "Epoch 93/200\n",
      "6/6 [==============================] - 0s 992us/step - loss: 0.9895\n",
      "Epoch 94/200\n",
      "6/6 [==============================] - 0s 602us/step - loss: 0.7357\n",
      "Epoch 95/200\n",
      "6/6 [==============================] - 0s 1ms/step - loss: 0.8137\n",
      "Epoch 96/200\n",
      "6/6 [==============================] - 0s 663us/step - loss: 0.7839\n",
      "Epoch 97/200\n",
      "6/6 [==============================] - 0s 848us/step - loss: 0.8090\n",
      "Epoch 98/200\n",
      "6/6 [==============================] - 0s 687us/step - loss: 0.8787\n",
      "Epoch 99/200\n",
      "6/6 [==============================] - 0s 619us/step - loss: 0.9294\n",
      "Epoch 100/200\n",
      "6/6 [==============================] - 0s 953us/step - loss: 0.8741\n",
      "Epoch 101/200\n",
      "6/6 [==============================] - 0s 598us/step - loss: 1.0245\n",
      "Epoch 102/200\n",
      "6/6 [==============================] - 0s 871us/step - loss: 0.8004\n",
      "Epoch 103/200\n",
      "6/6 [==============================] - 0s 858us/step - loss: 0.8222\n",
      "Epoch 104/200\n",
      "6/6 [==============================] - 0s 609us/step - loss: 0.9358\n",
      "Epoch 105/200\n",
      "6/6 [==============================] - 0s 953us/step - loss: 0.9216\n",
      "Epoch 106/200\n",
      "6/6 [==============================] - 0s 694us/step - loss: 0.9329\n",
      "Epoch 107/200\n",
      "6/6 [==============================] - 0s 762us/step - loss: 0.6870\n",
      "Epoch 108/200\n",
      "6/6 [==============================] - 0s 735us/step - loss: 0.8205\n",
      "Epoch 109/200\n",
      "6/6 [==============================] - 0s 874us/step - loss: 0.8043\n",
      "Epoch 110/200\n",
      "6/6 [==============================] - 0s 723us/step - loss: 0.7425\n",
      "Epoch 111/200\n",
      "6/6 [==============================] - 0s 656us/step - loss: 0.8287\n",
      "Epoch 112/200\n",
      "6/6 [==============================] - 0s 905us/step - loss: 0.8821\n",
      "Epoch 113/200\n",
      "6/6 [==============================] - 0s 588us/step - loss: 0.8013\n",
      "Epoch 114/200\n",
      "6/6 [==============================] - 0s 828us/step - loss: 0.8809\n",
      "Epoch 115/200\n",
      "6/6 [==============================] - 0s 683us/step - loss: 0.8381\n",
      "Epoch 116/200\n",
      "6/6 [==============================] - 0s 709us/step - loss: 0.8056\n",
      "Epoch 117/200\n",
      "6/6 [==============================] - 0s 746us/step - loss: 0.7863\n",
      "Epoch 118/200\n",
      "6/6 [==============================] - 0s 782us/step - loss: 0.9492\n",
      "Epoch 119/200\n",
      "6/6 [==============================] - 0s 793us/step - loss: 0.9380\n",
      "Epoch 120/200\n",
      "6/6 [==============================] - 0s 895us/step - loss: 1.0312\n",
      "Epoch 121/200\n",
      "6/6 [==============================] - 0s 589us/step - loss: 0.8880\n",
      "Epoch 122/200\n",
      "6/6 [==============================] - 0s 954us/step - loss: 0.9472\n",
      "Epoch 123/200\n",
      "6/6 [==============================] - 0s 627us/step - loss: 0.9511\n",
      "Epoch 124/200\n",
      "6/6 [==============================] - 0s 589us/step - loss: 0.7371\n",
      "Epoch 125/200\n",
      "6/6 [==============================] - 0s 992us/step - loss: 1.0116\n",
      "Epoch 126/200\n",
      "6/6 [==============================] - 0s 658us/step - loss: 0.9812\n",
      "Epoch 127/200\n",
      "6/6 [==============================] - 0s 815us/step - loss: 1.0061\n",
      "Epoch 128/200\n",
      "6/6 [==============================] - 0s 908us/step - loss: 1.0040\n",
      "Epoch 129/200\n",
      "6/6 [==============================] - 0s 800us/step - loss: 0.7647\n",
      "Epoch 130/200\n",
      "6/6 [==============================] - 0s 913us/step - loss: 0.7914\n",
      "Epoch 131/200\n",
      "6/6 [==============================] - 0s 601us/step - loss: 1.0808\n",
      "Epoch 132/200\n",
      "6/6 [==============================] - 0s 894us/step - loss: 0.9557\n",
      "Epoch 133/200\n",
      "6/6 [==============================] - 0s 686us/step - loss: 0.8975\n",
      "Epoch 134/200\n",
      "6/6 [==============================] - 0s 933us/step - loss: 0.7963\n",
      "Epoch 135/200\n",
      "6/6 [==============================] - 0s 653us/step - loss: 0.9815\n",
      "Epoch 136/200\n",
      "6/6 [==============================] - 0s 644us/step - loss: 0.8218\n",
      "Epoch 137/200\n",
      "6/6 [==============================] - 0s 776us/step - loss: 0.9496\n",
      "Epoch 138/200\n",
      "6/6 [==============================] - 0s 739us/step - loss: 0.7928\n",
      "Epoch 139/200\n",
      "6/6 [==============================] - 0s 947us/step - loss: 0.9018\n",
      "Epoch 140/200\n",
      "6/6 [==============================] - 0s 667us/step - loss: 0.8772\n",
      "Epoch 141/200\n",
      "6/6 [==============================] - 0s 605us/step - loss: 0.8366\n",
      "Epoch 142/200\n",
      "6/6 [==============================] - 0s 911us/step - loss: 0.8947\n",
      "Epoch 143/200\n",
      "6/6 [==============================] - 0s 633us/step - loss: 0.9754\n",
      "Epoch 144/200\n",
      "6/6 [==============================] - 0s 1ms/step - loss: 0.9992\n",
      "Epoch 145/200\n",
      "6/6 [==============================] - 0s 639us/step - loss: 0.7441\n",
      "Epoch 146/200\n",
      "6/6 [==============================] - 0s 595us/step - loss: 0.7039\n",
      "Epoch 147/200\n",
      "6/6 [==============================] - 0s 610us/step - loss: 0.7352\n",
      "Epoch 148/200\n",
      "6/6 [==============================] - 0s 738us/step - loss: 0.7462\n",
      "Epoch 149/200\n",
      "6/6 [==============================] - 0s 845us/step - loss: 0.7608\n",
      "Epoch 150/200\n",
      "6/6 [==============================] - 0s 758us/step - loss: 0.8376\n",
      "Epoch 151/200\n",
      "6/6 [==============================] - 0s 536us/step - loss: 0.8312\n",
      "Epoch 152/200\n",
      "6/6 [==============================] - 0s 969us/step - loss: 0.7421\n",
      "Epoch 153/200\n",
      "6/6 [==============================] - 0s 616us/step - loss: 0.8870\n",
      "Epoch 154/200\n",
      "6/6 [==============================] - 0s 1ms/step - loss: 0.8221\n",
      "Epoch 155/200\n",
      "6/6 [==============================] - 0s 674us/step - loss: 0.9471\n",
      "Epoch 156/200\n",
      "6/6 [==============================] - 0s 774us/step - loss: 1.0894\n",
      "Epoch 157/200\n",
      "6/6 [==============================] - 0s 651us/step - loss: 0.8596\n",
      "Epoch 158/200\n",
      "6/6 [==============================] - 0s 600us/step - loss: 1.0079\n",
      "Epoch 159/200\n",
      "6/6 [==============================] - 0s 909us/step - loss: 0.9345\n",
      "Epoch 160/200\n",
      "6/6 [==============================] - 0s 603us/step - loss: 0.7998\n",
      "Epoch 161/200\n",
      "6/6 [==============================] - 0s 567us/step - loss: 0.8202\n",
      "Epoch 162/200\n",
      "6/6 [==============================] - 0s 973us/step - loss: 0.9240\n",
      "Epoch 163/200\n",
      "6/6 [==============================] - 0s 593us/step - loss: 0.6208\n",
      "Epoch 164/200\n",
      "6/6 [==============================] - 0s 1ms/step - loss: 1.0273\n",
      "Epoch 165/200\n",
      "6/6 [==============================] - 0s 660us/step - loss: 0.8203\n",
      "Epoch 166/200\n",
      "6/6 [==============================] - 0s 820us/step - loss: 0.8707\n",
      "Epoch 167/200\n",
      "6/6 [==============================] - 0s 621us/step - loss: 0.9042\n",
      "Epoch 168/200\n",
      "6/6 [==============================] - 0s 654us/step - loss: 0.9378\n",
      "Epoch 169/200\n",
      "6/6 [==============================] - 0s 841us/step - loss: 0.8207\n",
      "Epoch 170/200\n",
      "6/6 [==============================] - 0s 659us/step - loss: 1.0378\n",
      "Epoch 171/200\n",
      "6/6 [==============================] - 0s 772us/step - loss: 0.7773\n",
      "Epoch 172/200\n",
      "6/6 [==============================] - 0s 913us/step - loss: 0.8466\n",
      "Epoch 173/200\n",
      "6/6 [==============================] - 0s 624us/step - loss: 0.9822\n",
      "Epoch 174/200\n",
      "6/6 [==============================] - 0s 1ms/step - loss: 0.8155\n",
      "Epoch 175/200\n",
      "6/6 [==============================] - 0s 839us/step - loss: 0.8063\n",
      "Epoch 176/200\n",
      "6/6 [==============================] - 0s 776us/step - loss: 0.8073\n",
      "Epoch 177/200\n",
      "6/6 [==============================] - 0s 885us/step - loss: 0.9547\n",
      "Epoch 178/200\n",
      "6/6 [==============================] - 0s 597us/step - loss: 0.8037\n",
      "Epoch 179/200\n",
      "6/6 [==============================] - 0s 793us/step - loss: 0.7588\n",
      "Epoch 180/200\n",
      "6/6 [==============================] - 0s 545us/step - loss: 1.1864\n",
      "Epoch 181/200\n",
      "6/6 [==============================] - 0s 939us/step - loss: 0.8276\n",
      "Epoch 182/200\n",
      "6/6 [==============================] - 0s 797us/step - loss: 0.6921\n",
      "Epoch 183/200\n",
      "6/6 [==============================] - 0s 615us/step - loss: 0.8744\n",
      "Epoch 184/200\n",
      "6/6 [==============================] - 0s 887us/step - loss: 0.9408\n",
      "Epoch 185/200\n",
      "6/6 [==============================] - 0s 672us/step - loss: 0.9216\n",
      "Epoch 186/200\n",
      "6/6 [==============================] - 0s 788us/step - loss: 0.8894\n",
      "Epoch 187/200\n",
      "6/6 [==============================] - 0s 1ms/step - loss: 0.8047\n",
      "Epoch 188/200\n",
      "6/6 [==============================] - 0s 604us/step - loss: 0.8691\n",
      "Epoch 189/200\n",
      "6/6 [==============================] - 0s 768us/step - loss: 0.9728\n",
      "Epoch 190/200\n",
      "6/6 [==============================] - 0s 549us/step - loss: 0.9278\n",
      "Epoch 191/200\n",
      "6/6 [==============================] - 0s 924us/step - loss: 0.7096\n",
      "Epoch 192/200\n",
      "6/6 [==============================] - 0s 706us/step - loss: 0.8123\n",
      "Epoch 193/200\n",
      "6/6 [==============================] - 0s 688us/step - loss: 1.0436\n",
      "Epoch 194/200\n",
      "6/6 [==============================] - 0s 891us/step - loss: 0.9174\n",
      "Epoch 195/200\n",
      "6/6 [==============================] - 0s 653us/step - loss: 0.9751\n",
      "Epoch 196/200\n",
      "6/6 [==============================] - 0s 708us/step - loss: 0.8191\n",
      "Epoch 197/200\n",
      "6/6 [==============================] - 0s 851us/step - loss: 0.9664\n",
      "Epoch 198/200\n",
      "6/6 [==============================] - 0s 671us/step - loss: 0.9750\n",
      "Epoch 199/200\n",
      "6/6 [==============================] - 0s 949us/step - loss: 1.0576\n",
      "Epoch 200/200\n",
      "6/6 [==============================] - 0s 623us/step - loss: 0.7582\n"
     ]
    }
   ],
   "source": [
    "# Create a TF model\n",
    "model = tf.keras.models.Sequential([\n",
    "    tf.keras.layers.Input(shape=(1,)),\n",
    "    tf.keras.layers.Dense(1)\n",
    "])\n",
    "\n",
    "model.compile(optimizer=tf.keras.optimizers.SGD(0.001, 0.9), loss=\"mse\")\n",
    "\n",
    "# learning rate scheduler\n",
    "def schedule(epoch, lr):\n",
    "    if epoch >= 50:\n",
    "        return 0.0001\n",
    "    return 0.001\n",
    "\n",
    "scheduler = tf.keras.callbacks.LearningRateScheduler(schedule)\n",
    "\n",
    "# Train the model\n",
    "r = model.fit(X, Y, epochs=200, callbacks=[scheduler])"
   ]
  },
  {
   "cell_type": "code",
   "execution_count": 24,
   "id": "organic-manitoba",
   "metadata": {},
   "outputs": [
    {
     "data": {
      "text/plain": [
       "[<matplotlib.lines.Line2D at 0x7f0bc5c52190>]"
      ]
     },
     "execution_count": 24,
     "metadata": {},
     "output_type": "execute_result"
    },
    {
     "data": {
      "image/png": "[encoded data removed]",
      "text/plain": [
       "<Figure size 432x288 with 1 Axes>"
      ]
     },
     "metadata": {
      "needs_background": "light"
     },
     "output_type": "display_data"
    }
   ],
   "source": [
    "# Plot the loss\n",
    "plt.plot(r.history[\"loss\"], label=\"loss\")"
   ]
  },
  {
   "cell_type": "code",
   "execution_count": 25,
   "id": "tutorial-record",
   "metadata": {},
   "outputs": [
    {
     "name": "stdout",
     "output_type": "stream",
     "text": [
      "[<tensorflow.python.keras.layers.core.Dense object at 0x7f0bc6576eb0>]\n",
      "[array([[0.34213686]], dtype=float32), array([17.763718], dtype=float32)]\n"
     ]
    }
   ],
   "source": [
    "# Get the slope of the line\n",
    "# The slope of the lineis related to the doubling rate of transistor count\n",
    "print(model.layers) # Note: there is only one layer, the \"Input\" layer doesn't count\n",
    "print(model.layers[0].get_weights())"
   ]
  },
  {
   "cell_type": "code",
   "execution_count": 28,
   "id": "organized-simulation",
   "metadata": {},
   "outputs": [
    {
     "name": "stdout",
     "output_type": "stream",
     "text": [
      "0.34213686\n"
     ]
    }
   ],
   "source": [
    "# Now the slope of the line\n",
    "a = model.layers[0].get_weights()[0][0, 0]\n",
    "print(a)"
   ]
  },
  {
   "cell_type": "markdown",
   "id": "exceptional-clock",
   "metadata": {},
   "source": [
    "Our original model for exponential growth is:\n",
    "\n",
    "$$ C = A_0 r^t $$\n",
    "\n",
    "Where $ C $ is transistor the count and $ t $ is the year.\n",
    "\n",
    "$ r $ is the rate of growth. For example, when $ t $ goes from 1 to 2, $ C $ increases by a factor of $ r $. When $ t $ goes from 2 to 3, $ C $ increases by a factor of $ r $ again.\n",
    "\n",
    "When we take the log of both sides, we get:\n",
    "\n",
    "$$ \\log C = \\log r * t + \\log A_0 $$\n",
    "\n",
    "This is our linear equation:\n",
    "\n",
    "$$ \\hat{y} = ax + b $$\n",
    "\n",
    "Where:\n",
    "\n",
    "$$ \\hat{y} = \\log C $$\n",
    "$$ a = \\log r $$\n",
    "$$ x = t $$\n",
    "$$ b = \\log A_0 $$\n",
    "\n",
    "We are interested in $ r $, because that's the rate of growth. Given our regression weights, we know that:\n",
    "\n",
    "$$ a = 0.34188038 $$\n",
    "\n",
    "so that:\n",
    "\n",
    "$$ r = e^{0.34188038} = 1.4076 $$\n",
    "\n",
    "To find the time it takes for transistor count to double, we simply need to find the amount of time it takes for $ C $ to increase to $ 2C $.\n",
    "\n",
    "Let's call the original starting time $ t $, to correspond with the initial transistor count $ C $.\n",
    "\n",
    "Let's call the end time $ t' $, to correspond with the final transistor count $ 2C $.\n",
    "\n",
    "Then we also have:\n",
    "\n",
    "$$ 2C = A_0 r ^ {t'} $$\n",
    "\n",
    "Combine this with our original equation:\n",
    "\n",
    "$$ C = A_0 r^t $$\n",
    "\n",
    "We get (by dividing the 2 equations):\n",
    "\n",
    "$$ 2C/C = (A_0 r ^ {t'}) / A_0 r^t $$\n",
    "\n",
    "Which simplifies to:\n",
    "\n",
    "$$ 2 = r^{(t' - t)} $$\n",
    "\n",
    "Solve for $ t' - t $:\n",
    "\n",
    "$$ t' - t = \\frac{\\log 2}{\\log r} = \\frac{\\log2}{a}$$\n",
    "\n",
    "\n",
    "Important note! We haven't specified what the starting time $ t $ actually is, and we don't have to since we just proved that this holds for any $ t $."
   ]
  },
  {
   "cell_type": "code",
   "execution_count": 29,
   "id": "friendly-philippines",
   "metadata": {},
   "outputs": [
    {
     "name": "stdout",
     "output_type": "stream",
     "text": [
      "Time to double:  2.025935413024782\n"
     ]
    }
   ],
   "source": [
    "print(\"Time to double: \", np.log(2)/a)"
   ]
  },
  {
   "cell_type": "code",
   "execution_count": 36,
   "id": "enabling-blame",
   "metadata": {},
   "outputs": [
    {
     "name": "stdout",
     "output_type": "stream",
     "text": [
      "0.341682487387313 17.764939393631764\n",
      "Time to double:  2.0286295205239204\n"
     ]
    }
   ],
   "source": [
    "# If you know the analytical solution\n",
    "X = np.array(X).flatten()\n",
    "Y = np.array(Y)\n",
    "\n",
    "denominator = X.dot(X) - X.mean() * X.sum()\n",
    "a = (X.dot(Y) - Y.mean() * X.sum()) / denominator\n",
    "b = (Y.mean() * X.dot(X) - X.mean() * X.dot(Y)) / denominator\n",
    "print(a, b)\n",
    "print(\"Time to double: \", np.log(2)/a)"
   ]
  },
  {
   "cell_type": "markdown",
   "id": "worst-terrain",
   "metadata": {},
   "source": [
    "### Making Predictions"
   ]
  },
  {
   "cell_type": "code",
   "execution_count": 37,
   "id": "missing-scholar",
   "metadata": {},
   "outputs": [
    {
     "data": {
      "text/plain": [
       "[<matplotlib.lines.Line2D at 0x7f0bc5b78160>]"
      ]
     },
     "execution_count": 37,
     "metadata": {},
     "output_type": "execute_result"
    },
    {
     "data": {
      "image/png": "[encoded data removed]",
      "text/plain": [
       "<Figure size 432x288 with 1 Axes>"
      ]
     },
     "metadata": {
      "needs_background": "light"
     },
     "output_type": "display_data"
    }
   ],
   "source": [
    "# Make sure the line fits the data\n",
    "Yhat = model.predict(X).flatten()\n",
    "plt.scatter(X, Y, color=\"dodgerblue\", alpha=0.5)\n",
    "plt.plot(X, Yhat, color=\"crimson\")"
   ]
  },
  {
   "cell_type": "code",
   "execution_count": 50,
   "id": "special-brief",
   "metadata": {},
   "outputs": [
    {
     "name": "stdout",
     "output_type": "stream",
     "text": [
      "7.0898924\n",
      "7.089892405050795\n"
     ]
    },
    {
     "data": {
      "text/plain": [
       "True"
      ]
     },
     "execution_count": 50,
     "metadata": {},
     "output_type": "execute_result"
    }
   ],
   "source": [
    "# Manual calculation\n",
    "\n",
    "# Get weights\n",
    "w, b = model.layers[0].get_weights()\n",
    "\n",
    "# reshape because we flattened earlier\n",
    "X = X.reshape(-1, 1)\n",
    "\n",
    "# (N x 1) x (1 x 1) + (1) ---> (N x 1)\n",
    "Yhat2 = (X.dot(w) + b).flatten()\n",
    "\n",
    "print(min(Yhat))\n",
    "print(min(Yhat2))\n",
    "\n",
    "# print(Yhat == Yhat2) # doesn't work here because they are floats\n",
    "np.allclose(Yhat, Yhat2)"
   ]
  },
  {
   "cell_type": "code",
   "execution_count": null,
   "id": "overhead-million",
   "metadata": {},
   "outputs": [],
   "source": []
  }
 ],
 "metadata": {
  "kernelspec": {
   "display_name": "Python 3",
   "language": "python",
   "name": "python3"
  },
  "language_info": {
   "codemirror_mode": {
    "name": "ipython",
    "version": 3
   },
   "file_extension": ".py",
   "mimetype": "text/x-python",
   "name": "python",
   "nbconvert_exporter": "python",
   "pygments_lexer": "ipython3",
   "version": "3.8.10"
  }
 },
 "nbformat": 4,
 "nbformat_minor": 5
}
