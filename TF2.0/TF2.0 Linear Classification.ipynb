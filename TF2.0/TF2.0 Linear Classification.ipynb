{
 "cells": [
  {
   "cell_type": "code",
   "execution_count": 50,
   "id": "vanilla-interview",
   "metadata": {},
   "outputs": [
    {
     "name": "stdout",
     "output_type": "stream",
     "text": [
      "2.4.1\n"
     ]
    }
   ],
   "source": [
    "import numpy as np\n",
    "import tensorflow as tf\n",
    "print(tf.__version__)"
   ]
  },
  {
   "cell_type": "code",
   "execution_count": 1,
   "id": "homeless-mystery",
   "metadata": {},
   "outputs": [
    {
     "data": {
      "text/plain": [
       "dict_keys(['data', 'target', 'frame', 'target_names', 'DESCR', 'feature_names', 'filename'])"
      ]
     },
     "execution_count": 1,
     "metadata": {},
     "output_type": "execute_result"
    }
   ],
   "source": [
    "# Load in the data \n",
    "from sklearn.datasets import load_breast_cancer\n",
    "\n",
    "# load the data (assigned 'ddata' for my sanity)\n",
    "# using ddata to distinguish from the key data\n",
    "ddata = load_breast_cancer()\n",
    "\n",
    "type(ddata)\n",
    "ddata.keys()"
   ]
  },
  {
   "cell_type": "code",
   "execution_count": 3,
   "id": "organizational-capitol",
   "metadata": {},
   "outputs": [
    {
     "data": {
      "text/plain": [
       "(569, 30)"
      ]
     },
     "execution_count": 3,
     "metadata": {},
     "output_type": "execute_result"
    }
   ],
   "source": [
    "ddata.data.shape \n",
    "# the data has 569 samples and 30 features"
   ]
  },
  {
   "cell_type": "code",
   "execution_count": 4,
   "id": "qualified-forwarding",
   "metadata": {},
   "outputs": [
    {
     "data": {
      "text/plain": [
       "array([0, 0, 0, 0, 0, 0, 0, 0, 0, 0, 0, 0, 0, 0, 0, 0, 0, 0, 0, 1, 1, 1,\n",
       "       0, 0, 0, 0, 0, 0, 0, 0, 0, 0, 0, 0, 0, 0, 0, 1, 0, 0, 0, 0, 0, 0,\n",
       "       0, 0, 1, 0, 1, 1, 1, 1, 1, 0, 0, 1, 0, 0, 1, 1, 1, 1, 0, 1, 0, 0,\n",
       "       1, 1, 1, 1, 0, 1, 0, 0, 1, 0, 1, 0, 0, 1, 1, 1, 0, 0, 1, 0, 0, 0,\n",
       "       1, 1, 1, 0, 1, 1, 0, 0, 1, 1, 1, 0, 0, 1, 1, 1, 1, 0, 1, 1, 0, 1,\n",
       "       1, 1, 1, 1, 1, 1, 1, 0, 0, 0, 1, 0, 0, 1, 1, 1, 0, 0, 1, 0, 1, 0,\n",
       "       0, 1, 0, 0, 1, 1, 0, 1, 1, 0, 1, 1, 1, 1, 0, 1, 1, 1, 1, 1, 1, 1,\n",
       "       1, 1, 0, 1, 1, 1, 1, 0, 0, 1, 0, 1, 1, 0, 0, 1, 1, 0, 0, 1, 1, 1,\n",
       "       1, 0, 1, 1, 0, 0, 0, 1, 0, 1, 0, 1, 1, 1, 0, 1, 1, 0, 0, 1, 0, 0,\n",
       "       0, 0, 1, 0, 0, 0, 1, 0, 1, 0, 1, 1, 0, 1, 0, 0, 0, 0, 1, 1, 0, 0,\n",
       "       1, 1, 1, 0, 1, 1, 1, 1, 1, 0, 0, 1, 1, 0, 1, 1, 0, 0, 1, 0, 1, 1,\n",
       "       1, 1, 0, 1, 1, 1, 1, 1, 0, 1, 0, 0, 0, 0, 0, 0, 0, 0, 0, 0, 0, 0,\n",
       "       0, 0, 1, 1, 1, 1, 1, 1, 0, 1, 0, 1, 1, 0, 1, 1, 0, 1, 0, 0, 1, 1,\n",
       "       1, 1, 1, 1, 1, 1, 1, 1, 1, 1, 1, 0, 1, 1, 0, 1, 0, 1, 1, 1, 1, 1,\n",
       "       1, 1, 1, 1, 1, 1, 1, 1, 1, 0, 1, 1, 1, 0, 1, 0, 1, 1, 1, 1, 0, 0,\n",
       "       0, 1, 1, 1, 1, 0, 1, 0, 1, 0, 1, 1, 1, 0, 1, 1, 1, 1, 1, 1, 1, 0,\n",
       "       0, 0, 1, 1, 1, 1, 1, 1, 1, 1, 1, 1, 1, 0, 0, 1, 0, 0, 0, 1, 0, 0,\n",
       "       1, 1, 1, 1, 1, 0, 1, 1, 1, 1, 1, 0, 1, 1, 1, 0, 1, 1, 0, 0, 1, 1,\n",
       "       1, 1, 1, 1, 0, 1, 1, 1, 1, 1, 1, 1, 0, 1, 1, 1, 1, 1, 0, 1, 1, 0,\n",
       "       1, 1, 1, 1, 1, 1, 1, 1, 1, 1, 1, 1, 0, 1, 0, 0, 1, 0, 1, 1, 1, 1,\n",
       "       1, 0, 1, 1, 0, 1, 0, 1, 1, 0, 1, 0, 1, 1, 1, 1, 1, 1, 1, 1, 0, 0,\n",
       "       1, 1, 1, 1, 1, 1, 0, 1, 1, 1, 1, 1, 1, 1, 1, 1, 1, 0, 1, 1, 1, 1,\n",
       "       1, 1, 1, 0, 1, 0, 1, 1, 0, 1, 1, 1, 1, 1, 0, 0, 1, 0, 1, 0, 1, 1,\n",
       "       1, 1, 1, 0, 1, 1, 0, 1, 0, 1, 0, 0, 1, 1, 1, 0, 1, 1, 1, 1, 1, 1,\n",
       "       1, 1, 1, 1, 1, 0, 1, 0, 0, 1, 1, 1, 1, 1, 1, 1, 1, 1, 1, 1, 1, 1,\n",
       "       1, 1, 1, 1, 1, 1, 1, 1, 1, 1, 1, 1, 0, 0, 0, 0, 0, 0, 1])"
      ]
     },
     "execution_count": 4,
     "metadata": {},
     "output_type": "execute_result"
    }
   ],
   "source": [
    "ddata.target"
   ]
  },
  {
   "cell_type": "code",
   "execution_count": 5,
   "id": "potential-nicholas",
   "metadata": {},
   "outputs": [
    {
     "data": {
      "text/plain": [
       "array(['malignant', 'benign'], dtype='<U9')"
      ]
     },
     "execution_count": 5,
     "metadata": {},
     "output_type": "execute_result"
    }
   ],
   "source": [
    "ddata.target_names"
   ]
  },
  {
   "cell_type": "code",
   "execution_count": 6,
   "id": "seven-dallas",
   "metadata": {},
   "outputs": [
    {
     "data": {
      "text/plain": [
       "(569,)"
      ]
     },
     "execution_count": 6,
     "metadata": {},
     "output_type": "execute_result"
    }
   ],
   "source": [
    "ddata.target.shape"
   ]
  },
  {
   "cell_type": "code",
   "execution_count": 7,
   "id": "interracial-ireland",
   "metadata": {},
   "outputs": [
    {
     "data": {
      "text/plain": [
       "array(['mean radius', 'mean texture', 'mean perimeter', 'mean area',\n",
       "       'mean smoothness', 'mean compactness', 'mean concavity',\n",
       "       'mean concave points', 'mean symmetry', 'mean fractal dimension',\n",
       "       'radius error', 'texture error', 'perimeter error', 'area error',\n",
       "       'smoothness error', 'compactness error', 'concavity error',\n",
       "       'concave points error', 'symmetry error',\n",
       "       'fractal dimension error', 'worst radius', 'worst texture',\n",
       "       'worst perimeter', 'worst area', 'worst smoothness',\n",
       "       'worst compactness', 'worst concavity', 'worst concave points',\n",
       "       'worst symmetry', 'worst fractal dimension'], dtype='<U23')"
      ]
     },
     "execution_count": 7,
     "metadata": {},
     "output_type": "execute_result"
    }
   ],
   "source": [
    "ddata.feature_names"
   ]
  },
  {
   "cell_type": "code",
   "execution_count": 8,
   "id": "eight-chrome",
   "metadata": {},
   "outputs": [],
   "source": [
    "# import train_test_split\n",
    "from sklearn.model_selection import train_test_split"
   ]
  },
  {
   "cell_type": "code",
   "execution_count": 9,
   "id": "shaped-shelf",
   "metadata": {},
   "outputs": [],
   "source": [
    "X_train, X_test, y_train, y_test = train_test_split(ddata.data, ddata.target, test_size = 0.33)\n",
    "\n",
    "N, D = X_train.shape\n",
    "                                                "
   ]
  },
  {
   "cell_type": "code",
   "execution_count": 10,
   "id": "academic-jaguar",
   "metadata": {},
   "outputs": [],
   "source": [
    "# Scaling the data\n",
    "from sklearn.preprocessing import StandardScaler\n",
    "\n",
    "scaler = StandardScaler()\n",
    "X_train = scaler.fit_transform(X_train)\n",
    "X_test = scaler.transform(X_test)"
   ]
  },
  {
   "cell_type": "code",
   "execution_count": 11,
   "id": "certified-reset",
   "metadata": {},
   "outputs": [
    {
     "name": "stdout",
     "output_type": "stream",
     "text": [
      "Epoch 1/100\n",
      "12/12 [==============================] - 1s 23ms/step - loss: 1.1342 - accuracy: 0.2645 - val_loss: 1.0924 - val_accuracy: 0.2553\n",
      "Epoch 2/100\n",
      "12/12 [==============================] - 0s 3ms/step - loss: 1.0022 - accuracy: 0.2798 - val_loss: 0.9864 - val_accuracy: 0.3191\n",
      "Epoch 3/100\n",
      "12/12 [==============================] - 0s 3ms/step - loss: 0.9120 - accuracy: 0.3191 - val_loss: 0.8897 - val_accuracy: 0.3670\n",
      "Epoch 4/100\n",
      "12/12 [==============================] - 0s 3ms/step - loss: 0.8209 - accuracy: 0.4086 - val_loss: 0.8034 - val_accuracy: 0.4628\n",
      "Epoch 5/100\n",
      "12/12 [==============================] - 0s 3ms/step - loss: 0.7424 - accuracy: 0.4647 - val_loss: 0.7279 - val_accuracy: 0.5532\n",
      "Epoch 6/100\n",
      "12/12 [==============================] - 0s 3ms/step - loss: 0.6945 - accuracy: 0.5249 - val_loss: 0.6627 - val_accuracy: 0.6489\n",
      "Epoch 7/100\n",
      "12/12 [==============================] - 0s 3ms/step - loss: 0.6255 - accuracy: 0.6118 - val_loss: 0.6086 - val_accuracy: 0.7074\n",
      "Epoch 8/100\n",
      "12/12 [==============================] - 0s 3ms/step - loss: 0.5527 - accuracy: 0.7308 - val_loss: 0.5620 - val_accuracy: 0.7553\n",
      "Epoch 9/100\n",
      "12/12 [==============================] - 0s 3ms/step - loss: 0.5156 - accuracy: 0.7885 - val_loss: 0.5223 - val_accuracy: 0.7819\n",
      "Epoch 10/100\n",
      "12/12 [==============================] - 0s 3ms/step - loss: 0.4725 - accuracy: 0.8197 - val_loss: 0.4891 - val_accuracy: 0.8138\n",
      "Epoch 11/100\n",
      "12/12 [==============================] - 0s 3ms/step - loss: 0.4525 - accuracy: 0.8385 - val_loss: 0.4594 - val_accuracy: 0.8511\n",
      "Epoch 12/100\n",
      "12/12 [==============================] - 0s 3ms/step - loss: 0.4171 - accuracy: 0.8495 - val_loss: 0.4340 - val_accuracy: 0.8777\n",
      "Epoch 13/100\n",
      "12/12 [==============================] - 0s 3ms/step - loss: 0.4081 - accuracy: 0.8557 - val_loss: 0.4119 - val_accuracy: 0.8936\n",
      "Epoch 14/100\n",
      "12/12 [==============================] - 0s 3ms/step - loss: 0.3751 - accuracy: 0.9137 - val_loss: 0.3923 - val_accuracy: 0.9096\n",
      "Epoch 15/100\n",
      "12/12 [==============================] - 0s 3ms/step - loss: 0.3452 - accuracy: 0.9172 - val_loss: 0.3748 - val_accuracy: 0.9202\n",
      "Epoch 16/100\n",
      "12/12 [==============================] - 0s 3ms/step - loss: 0.3495 - accuracy: 0.9123 - val_loss: 0.3595 - val_accuracy: 0.9309\n",
      "Epoch 17/100\n",
      "12/12 [==============================] - 0s 3ms/step - loss: 0.3179 - accuracy: 0.9195 - val_loss: 0.3457 - val_accuracy: 0.9309\n",
      "Epoch 18/100\n",
      "12/12 [==============================] - 0s 3ms/step - loss: 0.3128 - accuracy: 0.9328 - val_loss: 0.3330 - val_accuracy: 0.9309\n",
      "Epoch 19/100\n",
      "12/12 [==============================] - 0s 3ms/step - loss: 0.2940 - accuracy: 0.9341 - val_loss: 0.3218 - val_accuracy: 0.9309\n",
      "Epoch 20/100\n",
      "12/12 [==============================] - 0s 3ms/step - loss: 0.2844 - accuracy: 0.9431 - val_loss: 0.3114 - val_accuracy: 0.9362\n",
      "Epoch 21/100\n",
      "12/12 [==============================] - 0s 3ms/step - loss: 0.2868 - accuracy: 0.9253 - val_loss: 0.3018 - val_accuracy: 0.9362\n",
      "Epoch 22/100\n",
      "12/12 [==============================] - 0s 3ms/step - loss: 0.2549 - accuracy: 0.9472 - val_loss: 0.2931 - val_accuracy: 0.9415\n",
      "Epoch 23/100\n",
      "12/12 [==============================] - 0s 3ms/step - loss: 0.2493 - accuracy: 0.9473 - val_loss: 0.2850 - val_accuracy: 0.9415\n",
      "Epoch 24/100\n",
      "12/12 [==============================] - 0s 3ms/step - loss: 0.2527 - accuracy: 0.9556 - val_loss: 0.2777 - val_accuracy: 0.9468\n",
      "Epoch 25/100\n",
      "12/12 [==============================] - 0s 3ms/step - loss: 0.2444 - accuracy: 0.9474 - val_loss: 0.2708 - val_accuracy: 0.9468\n",
      "Epoch 26/100\n",
      "12/12 [==============================] - 0s 3ms/step - loss: 0.2401 - accuracy: 0.9561 - val_loss: 0.2643 - val_accuracy: 0.9468\n",
      "Epoch 27/100\n",
      "12/12 [==============================] - 0s 3ms/step - loss: 0.2330 - accuracy: 0.9485 - val_loss: 0.2583 - val_accuracy: 0.9468\n",
      "Epoch 28/100\n",
      "12/12 [==============================] - 0s 3ms/step - loss: 0.2099 - accuracy: 0.9658 - val_loss: 0.2526 - val_accuracy: 0.9468\n",
      "Epoch 29/100\n",
      "12/12 [==============================] - 0s 3ms/step - loss: 0.2114 - accuracy: 0.9586 - val_loss: 0.2475 - val_accuracy: 0.9468\n",
      "Epoch 30/100\n",
      "12/12 [==============================] - 0s 3ms/step - loss: 0.2156 - accuracy: 0.9481 - val_loss: 0.2424 - val_accuracy: 0.9468\n",
      "Epoch 31/100\n",
      "12/12 [==============================] - 0s 3ms/step - loss: 0.2108 - accuracy: 0.9447 - val_loss: 0.2376 - val_accuracy: 0.9468\n",
      "Epoch 32/100\n",
      "12/12 [==============================] - 0s 3ms/step - loss: 0.2002 - accuracy: 0.9501 - val_loss: 0.2332 - val_accuracy: 0.9468\n",
      "Epoch 33/100\n",
      "12/12 [==============================] - 0s 3ms/step - loss: 0.2124 - accuracy: 0.9504 - val_loss: 0.2289 - val_accuracy: 0.9468\n",
      "Epoch 34/100\n",
      "12/12 [==============================] - 0s 3ms/step - loss: 0.2160 - accuracy: 0.9385 - val_loss: 0.2248 - val_accuracy: 0.9468\n",
      "Epoch 35/100\n",
      "12/12 [==============================] - 0s 3ms/step - loss: 0.1815 - accuracy: 0.9587 - val_loss: 0.2211 - val_accuracy: 0.9468\n",
      "Epoch 36/100\n",
      "12/12 [==============================] - 0s 3ms/step - loss: 0.2001 - accuracy: 0.9492 - val_loss: 0.2175 - val_accuracy: 0.9521\n",
      "Epoch 37/100\n",
      "12/12 [==============================] - 0s 3ms/step - loss: 0.1858 - accuracy: 0.9574 - val_loss: 0.2141 - val_accuracy: 0.9521\n",
      "Epoch 38/100\n",
      "12/12 [==============================] - 0s 3ms/step - loss: 0.1887 - accuracy: 0.9519 - val_loss: 0.2108 - val_accuracy: 0.9574\n",
      "Epoch 39/100\n",
      "12/12 [==============================] - 0s 3ms/step - loss: 0.1926 - accuracy: 0.9518 - val_loss: 0.2077 - val_accuracy: 0.9574\n",
      "Epoch 40/100\n",
      "12/12 [==============================] - 0s 3ms/step - loss: 0.1607 - accuracy: 0.9659 - val_loss: 0.2047 - val_accuracy: 0.9574\n",
      "Epoch 41/100\n",
      "12/12 [==============================] - 0s 3ms/step - loss: 0.1669 - accuracy: 0.9735 - val_loss: 0.2018 - val_accuracy: 0.9574\n",
      "Epoch 42/100\n",
      "12/12 [==============================] - 0s 3ms/step - loss: 0.1607 - accuracy: 0.9606 - val_loss: 0.1990 - val_accuracy: 0.9574\n",
      "Epoch 43/100\n",
      "12/12 [==============================] - 0s 3ms/step - loss: 0.1652 - accuracy: 0.9675 - val_loss: 0.1964 - val_accuracy: 0.9574\n",
      "Epoch 44/100\n",
      "12/12 [==============================] - 0s 3ms/step - loss: 0.1799 - accuracy: 0.9492 - val_loss: 0.1939 - val_accuracy: 0.9574\n",
      "Epoch 45/100\n",
      "12/12 [==============================] - 0s 3ms/step - loss: 0.1515 - accuracy: 0.9707 - val_loss: 0.1914 - val_accuracy: 0.9574\n",
      "Epoch 46/100\n",
      "12/12 [==============================] - 0s 3ms/step - loss: 0.1443 - accuracy: 0.9715 - val_loss: 0.1891 - val_accuracy: 0.9574\n",
      "Epoch 47/100\n",
      "12/12 [==============================] - 0s 3ms/step - loss: 0.1705 - accuracy: 0.9499 - val_loss: 0.1868 - val_accuracy: 0.9574\n",
      "Epoch 48/100\n",
      "12/12 [==============================] - 0s 3ms/step - loss: 0.1548 - accuracy: 0.9576 - val_loss: 0.1846 - val_accuracy: 0.9574\n",
      "Epoch 49/100\n",
      "12/12 [==============================] - 0s 3ms/step - loss: 0.1575 - accuracy: 0.9604 - val_loss: 0.1825 - val_accuracy: 0.9574\n",
      "Epoch 50/100\n",
      "12/12 [==============================] - 0s 3ms/step - loss: 0.1567 - accuracy: 0.9542 - val_loss: 0.1804 - val_accuracy: 0.9574\n",
      "Epoch 51/100\n",
      "12/12 [==============================] - 0s 3ms/step - loss: 0.1420 - accuracy: 0.9683 - val_loss: 0.1785 - val_accuracy: 0.9574\n",
      "Epoch 52/100\n",
      "12/12 [==============================] - 0s 3ms/step - loss: 0.1343 - accuracy: 0.9681 - val_loss: 0.1766 - val_accuracy: 0.9574\n",
      "Epoch 53/100\n",
      "12/12 [==============================] - 0s 3ms/step - loss: 0.1468 - accuracy: 0.9695 - val_loss: 0.1747 - val_accuracy: 0.9574\n",
      "Epoch 54/100\n",
      "12/12 [==============================] - 0s 3ms/step - loss: 0.1354 - accuracy: 0.9753 - val_loss: 0.1729 - val_accuracy: 0.9574\n",
      "Epoch 55/100\n",
      "12/12 [==============================] - 0s 3ms/step - loss: 0.1394 - accuracy: 0.9644 - val_loss: 0.1711 - val_accuracy: 0.9574\n",
      "Epoch 56/100\n",
      "12/12 [==============================] - 0s 3ms/step - loss: 0.1399 - accuracy: 0.9692 - val_loss: 0.1695 - val_accuracy: 0.9574\n",
      "Epoch 57/100\n",
      "12/12 [==============================] - 0s 3ms/step - loss: 0.1384 - accuracy: 0.9732 - val_loss: 0.1679 - val_accuracy: 0.9574\n",
      "Epoch 58/100\n",
      "12/12 [==============================] - 0s 3ms/step - loss: 0.1366 - accuracy: 0.9663 - val_loss: 0.1663 - val_accuracy: 0.9574\n"
     ]
    },
    {
     "name": "stdout",
     "output_type": "stream",
     "text": [
      "Epoch 59/100\n",
      "12/12 [==============================] - 0s 3ms/step - loss: 0.1344 - accuracy: 0.9649 - val_loss: 0.1648 - val_accuracy: 0.9574\n",
      "Epoch 60/100\n",
      "12/12 [==============================] - 0s 3ms/step - loss: 0.1356 - accuracy: 0.9675 - val_loss: 0.1633 - val_accuracy: 0.9574\n",
      "Epoch 61/100\n",
      "12/12 [==============================] - 0s 3ms/step - loss: 0.1404 - accuracy: 0.9489 - val_loss: 0.1619 - val_accuracy: 0.9574\n",
      "Epoch 62/100\n",
      "12/12 [==============================] - 0s 3ms/step - loss: 0.1208 - accuracy: 0.9786 - val_loss: 0.1605 - val_accuracy: 0.9574\n",
      "Epoch 63/100\n",
      "12/12 [==============================] - 0s 3ms/step - loss: 0.1205 - accuracy: 0.9791 - val_loss: 0.1590 - val_accuracy: 0.9628\n",
      "Epoch 64/100\n",
      "12/12 [==============================] - 0s 3ms/step - loss: 0.1218 - accuracy: 0.9711 - val_loss: 0.1577 - val_accuracy: 0.9628\n",
      "Epoch 65/100\n",
      "12/12 [==============================] - 0s 3ms/step - loss: 0.1207 - accuracy: 0.9803 - val_loss: 0.1565 - val_accuracy: 0.9628\n",
      "Epoch 66/100\n",
      "12/12 [==============================] - 0s 3ms/step - loss: 0.1245 - accuracy: 0.9736 - val_loss: 0.1552 - val_accuracy: 0.9681\n",
      "Epoch 67/100\n",
      "12/12 [==============================] - 0s 3ms/step - loss: 0.1369 - accuracy: 0.9647 - val_loss: 0.1539 - val_accuracy: 0.9681\n",
      "Epoch 68/100\n",
      "12/12 [==============================] - 0s 3ms/step - loss: 0.1400 - accuracy: 0.9562 - val_loss: 0.1528 - val_accuracy: 0.9681\n",
      "Epoch 69/100\n",
      "12/12 [==============================] - 0s 3ms/step - loss: 0.1105 - accuracy: 0.9835 - val_loss: 0.1517 - val_accuracy: 0.9681\n",
      "Epoch 70/100\n",
      "12/12 [==============================] - 0s 3ms/step - loss: 0.1205 - accuracy: 0.9750 - val_loss: 0.1504 - val_accuracy: 0.9681\n",
      "Epoch 71/100\n",
      "12/12 [==============================] - 0s 3ms/step - loss: 0.1201 - accuracy: 0.9708 - val_loss: 0.1494 - val_accuracy: 0.9681\n",
      "Epoch 72/100\n",
      "12/12 [==============================] - 0s 3ms/step - loss: 0.1186 - accuracy: 0.9668 - val_loss: 0.1484 - val_accuracy: 0.9681\n",
      "Epoch 73/100\n",
      "12/12 [==============================] - 0s 3ms/step - loss: 0.1268 - accuracy: 0.9688 - val_loss: 0.1473 - val_accuracy: 0.9681\n",
      "Epoch 74/100\n",
      "12/12 [==============================] - 0s 3ms/step - loss: 0.1145 - accuracy: 0.9725 - val_loss: 0.1462 - val_accuracy: 0.9681\n",
      "Epoch 75/100\n",
      "12/12 [==============================] - 0s 3ms/step - loss: 0.1121 - accuracy: 0.9806 - val_loss: 0.1452 - val_accuracy: 0.9681\n",
      "Epoch 76/100\n",
      "12/12 [==============================] - 0s 3ms/step - loss: 0.1185 - accuracy: 0.9709 - val_loss: 0.1442 - val_accuracy: 0.9681\n",
      "Epoch 77/100\n",
      "12/12 [==============================] - 0s 3ms/step - loss: 0.0960 - accuracy: 0.9851 - val_loss: 0.1432 - val_accuracy: 0.9681\n",
      "Epoch 78/100\n",
      "12/12 [==============================] - 0s 3ms/step - loss: 0.1136 - accuracy: 0.9726 - val_loss: 0.1423 - val_accuracy: 0.9681\n",
      "Epoch 79/100\n",
      "12/12 [==============================] - 0s 3ms/step - loss: 0.1112 - accuracy: 0.9761 - val_loss: 0.1415 - val_accuracy: 0.9681\n",
      "Epoch 80/100\n",
      "12/12 [==============================] - 0s 3ms/step - loss: 0.1184 - accuracy: 0.9699 - val_loss: 0.1405 - val_accuracy: 0.9681\n",
      "Epoch 81/100\n",
      "12/12 [==============================] - 0s 3ms/step - loss: 0.1087 - accuracy: 0.9768 - val_loss: 0.1397 - val_accuracy: 0.9681\n",
      "Epoch 82/100\n",
      "12/12 [==============================] - 0s 3ms/step - loss: 0.1173 - accuracy: 0.9704 - val_loss: 0.1388 - val_accuracy: 0.9681\n",
      "Epoch 83/100\n",
      "12/12 [==============================] - 0s 3ms/step - loss: 0.1044 - accuracy: 0.9791 - val_loss: 0.1379 - val_accuracy: 0.9681\n",
      "Epoch 84/100\n",
      "12/12 [==============================] - 0s 3ms/step - loss: 0.0963 - accuracy: 0.9793 - val_loss: 0.1372 - val_accuracy: 0.9681\n",
      "Epoch 85/100\n",
      "12/12 [==============================] - 0s 3ms/step - loss: 0.1029 - accuracy: 0.9794 - val_loss: 0.1363 - val_accuracy: 0.9681\n",
      "Epoch 86/100\n",
      "12/12 [==============================] - 0s 3ms/step - loss: 0.1030 - accuracy: 0.9832 - val_loss: 0.1355 - val_accuracy: 0.9681\n",
      "Epoch 87/100\n",
      "12/12 [==============================] - 0s 3ms/step - loss: 0.1192 - accuracy: 0.9673 - val_loss: 0.1348 - val_accuracy: 0.9681\n",
      "Epoch 88/100\n",
      "12/12 [==============================] - 0s 3ms/step - loss: 0.0989 - accuracy: 0.9778 - val_loss: 0.1340 - val_accuracy: 0.9681\n",
      "Epoch 89/100\n",
      "12/12 [==============================] - 0s 3ms/step - loss: 0.0984 - accuracy: 0.9794 - val_loss: 0.1333 - val_accuracy: 0.9681\n",
      "Epoch 90/100\n",
      "12/12 [==============================] - 0s 3ms/step - loss: 0.0921 - accuracy: 0.9838 - val_loss: 0.1326 - val_accuracy: 0.9681\n",
      "Epoch 91/100\n",
      "12/12 [==============================] - 0s 3ms/step - loss: 0.1103 - accuracy: 0.9790 - val_loss: 0.1319 - val_accuracy: 0.9681\n",
      "Epoch 92/100\n",
      "12/12 [==============================] - 0s 3ms/step - loss: 0.1080 - accuracy: 0.9815 - val_loss: 0.1312 - val_accuracy: 0.9681\n",
      "Epoch 93/100\n",
      "12/12 [==============================] - 0s 3ms/step - loss: 0.1137 - accuracy: 0.9727 - val_loss: 0.1305 - val_accuracy: 0.9681\n",
      "Epoch 94/100\n",
      "12/12 [==============================] - 0s 3ms/step - loss: 0.1006 - accuracy: 0.9730 - val_loss: 0.1298 - val_accuracy: 0.9681\n",
      "Epoch 95/100\n",
      "12/12 [==============================] - 0s 3ms/step - loss: 0.1133 - accuracy: 0.9688 - val_loss: 0.1292 - val_accuracy: 0.9681\n",
      "Epoch 96/100\n",
      "12/12 [==============================] - 0s 3ms/step - loss: 0.0923 - accuracy: 0.9794 - val_loss: 0.1286 - val_accuracy: 0.9681\n",
      "Epoch 97/100\n",
      "12/12 [==============================] - 0s 3ms/step - loss: 0.0962 - accuracy: 0.9805 - val_loss: 0.1279 - val_accuracy: 0.9681\n",
      "Epoch 98/100\n",
      "12/12 [==============================] - 0s 3ms/step - loss: 0.1021 - accuracy: 0.9764 - val_loss: 0.1273 - val_accuracy: 0.9681\n",
      "Epoch 99/100\n",
      "12/12 [==============================] - 0s 3ms/step - loss: 0.1059 - accuracy: 0.9700 - val_loss: 0.1267 - val_accuracy: 0.9681\n",
      "Epoch 100/100\n",
      "12/12 [==============================] - 0s 3ms/step - loss: 0.0885 - accuracy: 0.9898 - val_loss: 0.1261 - val_accuracy: 0.9681\n",
      "12/12 [==============================] - 0s 495us/step - loss: 0.0978 - accuracy: 0.9790\n",
      "Train score:  [0.09780047088861465, 0.9790025949478149]\n",
      "6/6 [==============================] - 0s 644us/step - loss: 0.1261 - accuracy: 0.9681\n",
      "Test score:  [0.12609216570854187, 0.9680851101875305]\n"
     ]
    }
   ],
   "source": [
    "# Building the model\n",
    "model = tf.keras.models.Sequential([\n",
    "    tf.keras.layers.Input(shape=(D, )),\n",
    "    tf.keras.layers.Dense(1, activation=\"sigmoid\")\n",
    "])\n",
    "\n",
    "model.compile(optimizer=\"adam\", loss=\"binary_crossentropy\", metrics=[\"accuracy\"])\n",
    "\n",
    "r = model.fit(X_train, y_train, validation_data=(X_test, y_test), epochs=100)\n",
    "\n",
    "print(\"Train score: \", model.evaluate(X_train, y_train))\n",
    "print(\"Test score: \", model.evaluate(X_test, y_test))"
   ]
  },
  {
   "cell_type": "code",
   "execution_count": 12,
   "id": "other-automation",
   "metadata": {},
   "outputs": [
    {
     "data": {
      "text/plain": [
       "<matplotlib.legend.Legend at 0x7f01d256f430>"
      ]
     },
     "execution_count": 12,
     "metadata": {},
     "output_type": "execute_result"
    },
    {
     "data": {
      "image/png": "[encoded data removed]",
      "text/plain": [
       "<Figure size 432x288 with 1 Axes>"
      ]
     },
     "metadata": {
      "needs_background": "light"
     },
     "output_type": "display_data"
    }
   ],
   "source": [
    "# Plot the fit results\n",
    "import matplotlib.pyplot as plt\n",
    "plt.plot(r.history[\"loss\"], label=\"loss\")\n",
    "plt.plot(r.history[\"val_loss\"], label=\"val_loss\")\n",
    "plt.legend()"
   ]
  },
  {
   "cell_type": "code",
   "execution_count": 13,
   "id": "obvious-bhutan",
   "metadata": {},
   "outputs": [
    {
     "data": {
      "text/plain": [
       "<matplotlib.legend.Legend at 0x7f01d2441fa0>"
      ]
     },
     "execution_count": 13,
     "metadata": {},
     "output_type": "execute_result"
    },
    {
     "data": {
      "image/png": "[encoded data removed]",
      "text/plain": [
       "<Figure size 432x288 with 1 Axes>"
      ]
     },
     "metadata": {
      "needs_background": "light"
     },
     "output_type": "display_data"
    }
   ],
   "source": [
    "# Plot accuracy\n",
    "plt.plot(r.history[\"accuracy\"], label=\"acc\")\n",
    "plt.plot(r.history[\"val_accuracy\"], label=\"val_acc\")\n",
    "plt.legend()"
   ]
  },
  {
   "cell_type": "markdown",
   "id": "partial-burst",
   "metadata": {},
   "source": [
    "## Making Predictions"
   ]
  },
  {
   "cell_type": "code",
   "execution_count": 28,
   "id": "pressed-gentleman",
   "metadata": {},
   "outputs": [
    {
     "name": "stdout",
     "output_type": "stream",
     "text": [
      "[[9.92695391e-01]\n",
      " [4.10299629e-01]\n",
      " [1.87987089e-03]\n",
      " [9.81102705e-01]\n",
      " [1.75861299e-01]\n",
      " [9.32006598e-01]\n",
      " [9.80520010e-01]\n",
      " [8.96484613e-01]\n",
      " [6.69658184e-04]\n",
      " [1.03670985e-01]\n",
      " [9.61907983e-01]\n",
      " [1.98667347e-02]\n",
      " [9.64498639e-01]\n",
      " [9.95066822e-01]\n",
      " [7.85588741e-01]\n",
      " [9.89495873e-01]\n",
      " [6.75693691e-01]\n",
      " [8.24248433e-01]\n",
      " [5.93006611e-04]\n",
      " [1.46508604e-01]\n",
      " [4.04124260e-02]\n",
      " [9.03285503e-01]\n",
      " [6.36459947e-01]\n",
      " [9.76990104e-01]\n",
      " [9.91167307e-01]\n",
      " [9.90796924e-01]\n",
      " [8.15480113e-01]\n",
      " [1.18809938e-03]\n",
      " [9.70906079e-01]\n",
      " [2.09957361e-04]\n",
      " [1.05288625e-03]\n",
      " [2.91991830e-02]\n",
      " [8.27662468e-01]\n",
      " [2.15381384e-04]\n",
      " [9.68213022e-01]\n",
      " [1.69008970e-04]\n",
      " [9.98093426e-01]\n",
      " [9.98187065e-01]\n",
      " [1.88669562e-03]\n",
      " [9.91380811e-01]\n",
      " [4.09077883e-01]\n",
      " [7.42986798e-03]\n",
      " [9.53193843e-01]\n",
      " [9.96469259e-01]\n",
      " [9.69994187e-01]\n",
      " [6.52494192e-01]\n",
      " [9.10742879e-01]\n",
      " [9.90160763e-01]\n",
      " [2.89928913e-03]\n",
      " [3.04717720e-02]\n",
      " [9.59434211e-01]\n",
      " [9.27501321e-01]\n",
      " [9.63337660e-01]\n",
      " [9.93737280e-01]\n",
      " [8.74386191e-01]\n",
      " [5.14814258e-03]\n",
      " [6.67635798e-02]\n",
      " [1.05100870e-02]\n",
      " [9.60816264e-01]\n",
      " [9.86867249e-01]\n",
      " [9.87198949e-01]\n",
      " [1.62456989e-01]\n",
      " [1.03625655e-03]\n",
      " [9.89101768e-01]\n",
      " [2.87944078e-03]\n",
      " [4.38098796e-05]\n",
      " [9.89737153e-01]\n",
      " [4.00246084e-02]\n",
      " [3.46171200e-01]\n",
      " [8.63402247e-01]\n",
      " [9.50464606e-01]\n",
      " [9.73616004e-01]\n",
      " [9.49550390e-01]\n",
      " [3.52403522e-03]\n",
      " [9.35662448e-01]\n",
      " [9.94762421e-01]\n",
      " [3.99162591e-01]\n",
      " [1.16817928e-05]\n",
      " [9.88584638e-01]\n",
      " [9.66511309e-01]\n",
      " [9.63244438e-01]\n",
      " [3.13135684e-02]\n",
      " [2.43638415e-10]\n",
      " [9.82417345e-01]\n",
      " [8.64674330e-01]\n",
      " [7.25966334e-01]\n",
      " [7.75029540e-01]\n",
      " [9.26205873e-01]\n",
      " [1.04814768e-03]\n",
      " [2.67603189e-01]\n",
      " [2.57382035e-01]\n",
      " [3.40667066e-06]\n",
      " [8.05337071e-01]\n",
      " [9.91447151e-01]\n",
      " [9.75203156e-01]\n",
      " [4.39598888e-01]\n",
      " [9.71367896e-01]\n",
      " [9.63735938e-01]\n",
      " [8.86158347e-01]\n",
      " [9.39018250e-01]\n",
      " [9.44720387e-01]\n",
      " [5.29339015e-02]\n",
      " [9.12452102e-01]\n",
      " [1.11090649e-05]\n",
      " [9.71316099e-01]\n",
      " [7.57545233e-04]\n",
      " [9.61193204e-01]\n",
      " [8.81632864e-01]\n",
      " [9.97838020e-01]\n",
      " [5.61455786e-02]\n",
      " [1.73305273e-02]\n",
      " [9.32788193e-01]\n",
      " [9.78750110e-01]\n",
      " [6.83046103e-01]\n",
      " [9.33390141e-01]\n",
      " [8.16452503e-03]\n",
      " [2.83569098e-04]\n",
      " [9.36528921e-01]\n",
      " [9.85493302e-01]\n",
      " [9.48858142e-01]\n",
      " [9.38630581e-01]\n",
      " [9.80638742e-01]\n",
      " [9.78922784e-01]\n",
      " [8.88342679e-01]\n",
      " [9.97337580e-01]\n",
      " [7.89175272e-01]\n",
      " [9.94727850e-01]\n",
      " [8.65552902e-01]\n",
      " [9.66438651e-01]\n",
      " [1.35052115e-01]\n",
      " [9.95995641e-01]\n",
      " [4.73687828e-01]\n",
      " [6.34965301e-03]\n",
      " [9.69911516e-01]\n",
      " [9.92018223e-01]\n",
      " [9.45061445e-04]\n",
      " [3.70209336e-01]\n",
      " [9.66352940e-01]\n",
      " [9.82619643e-01]\n",
      " [1.22323513e-01]\n",
      " [1.89338326e-02]\n",
      " [8.30800414e-01]\n",
      " [9.94240046e-01]\n",
      " [9.97686625e-01]\n",
      " [9.98874962e-01]\n",
      " [9.90119576e-01]\n",
      " [3.37212712e-01]\n",
      " [9.13984179e-02]\n",
      " [1.36831075e-01]\n",
      " [9.81080592e-01]\n",
      " [6.06065989e-03]\n",
      " [1.81935132e-02]\n",
      " [8.97623181e-01]\n",
      " [1.96576118e-04]\n",
      " [6.52667701e-01]\n",
      " [8.98294449e-01]\n",
      " [7.01485157e-01]\n",
      " [9.67609286e-01]\n",
      " [5.75579405e-02]\n",
      " [9.88395870e-01]\n",
      " [4.71750796e-02]\n",
      " [7.46325970e-01]\n",
      " [6.47855759e-01]\n",
      " [1.50136054e-02]\n",
      " [1.42577291e-03]\n",
      " [3.12349200e-03]\n",
      " [5.82098874e-05]\n",
      " [9.13022757e-01]\n",
      " [4.65181470e-02]\n",
      " [9.68336463e-01]\n",
      " [2.14710832e-03]\n",
      " [9.77497756e-01]\n",
      " [9.60939527e-02]\n",
      " [9.86824870e-01]\n",
      " [7.02790022e-01]\n",
      " [2.15550661e-02]\n",
      " [5.74183723e-05]\n",
      " [1.94984674e-03]\n",
      " [9.91545558e-01]\n",
      " [8.52935195e-01]\n",
      " [8.99539709e-01]\n",
      " [9.98173535e-01]\n",
      " [9.03714299e-01]\n",
      " [9.88519609e-01]\n",
      " [9.61318254e-01]\n",
      " [1.18860006e-02]\n",
      " [2.00721920e-02]\n",
      " [9.29437757e-01]]\n"
     ]
    }
   ],
   "source": [
    "# Make predictons\n",
    "P = model.predict(X_test)\n",
    "print(P) # outputs of the sigmoid, interpreted as proberbilities P(y=1|x)"
   ]
  },
  {
   "cell_type": "code",
   "execution_count": 43,
   "id": "exceptional-newport",
   "metadata": {},
   "outputs": [
    {
     "name": "stdout",
     "output_type": "stream",
     "text": [
      "[1. 0. 0. 1. 0. 1. 1. 1. 0. 0. 1. 0. 1. 1. 1. 1. 1. 1. 0. 0. 0. 1. 1. 1.\n",
      " 1. 1. 1. 0. 1. 0. 0. 0. 1. 0. 1. 0. 1. 1. 0. 1. 0. 0. 1. 1. 1. 1. 1. 1.\n",
      " 0. 0. 1. 1. 1. 1. 1. 0. 0. 0. 1. 1. 1. 0. 0. 1. 0. 0. 1. 0. 0. 1. 1. 1.\n",
      " 1. 0. 1. 1. 0. 0. 1. 1. 1. 0. 0. 1. 1. 1. 1. 1. 0. 0. 0. 0. 1. 1. 1. 0.\n",
      " 1. 1. 1. 1. 1. 0. 1. 0. 1. 0. 1. 1. 1. 0. 0. 1. 1. 1. 1. 0. 0. 1. 1. 1.\n",
      " 1. 1. 1. 1. 1. 1. 1. 1. 1. 0. 1. 0. 0. 1. 1. 0. 0. 1. 1. 0. 0. 1. 1. 1.\n",
      " 1. 1. 0. 0. 0. 1. 0. 0. 1. 0. 1. 1. 1. 1. 0. 1. 0. 1. 1. 0. 0. 0. 0. 1.\n",
      " 0. 1. 0. 1. 0. 1. 1. 0. 0. 0. 1. 1. 1. 1. 1. 1. 1. 0. 0. 1.]\n"
     ]
    }
   ],
   "source": [
    "# Flatten to get (N,) to match targets (right now predictions are (N,1))\n",
    "P = np.round(P).flatten()\n",
    "print(P)"
   ]
  },
  {
   "cell_type": "code",
   "execution_count": 48,
   "id": "infrared-insulation",
   "metadata": {},
   "outputs": [
    {
     "name": "stdout",
     "output_type": "stream",
     "text": [
      "manually calculated accuracy:  0.9680851063829787 4\n",
      "6/6 [==============================] - 0s 778us/step - loss: 0.1261 - accuracy: 0.9681\n",
      "Evaluate output:  [0.12609216570854187, 0.9680851101875305]\n"
     ]
    }
   ],
   "source": [
    "# calculate the accuaracy compare it to the evaluate\n",
    "print(\"manually calculated accuracy: \", np.mean(P == y_test), 4)\n",
    "print(\"Evaluate output: \", model.evaluate(X_test, y_test))"
   ]
  },
  {
   "cell_type": "code",
   "execution_count": 49,
   "id": "missing-snowboard",
   "metadata": {},
   "outputs": [
    {
     "name": "stdout",
     "output_type": "stream",
     "text": [
      "total 1.4M\r\n",
      "-rw-rw-r-- 1 bg bg  19K Apr 29 15:03  linearclassifier.h5\r\n",
      "-rw-rw-r-- 1 bg bg 2.3K Apr  6 16:20  moore.csv\r\n",
      "-rw-rw-r-- 1 bg bg 492K Aug  2  2019  spam.csv\r\n",
      "-rw-rw-r-- 1 bg bg  72K Apr 13 15:03 'TF2.0 ANN MNIST.ipynb'\r\n",
      "-rw-rw-r-- 1 bg bg 456K Apr 13 19:25 'TF2.0 ANN Regression.ipynb'\r\n",
      "-rw-rw-r-- 1 bg bg 4.2K Apr 15 22:16 'TF2.0 Basic Computations.ipynb'\r\n",
      "-rw-rw-r-- 1 bg bg  99K Apr 14 11:59 'TF2.0 CNN for CIFAR.ipynb'\r\n",
      "-rw-rw-r-- 1 bg bg  85K Apr 13 19:57 'TF2.0 CNN for Fashion MNIST.ipynb'\r\n",
      "-rw-rw-r-- 1 bg bg  62K Apr 29 15:03 'TF2.0 Linear Classification.ipynb'\r\n",
      "-rw-rw-r-- 1 bg bg  60K Apr  6 16:47 'TF2.0 Linear Regression.ipynb'\r\n",
      "-rw-rw-r-- 1 bg bg  58K Apr 14 17:09 'TF2.0 Spam Detection RNN.ipynb'\r\n",
      "-rw-rw-r-- 1 bg bg 5.2K Apr 14 13:19 'TF2.0 Text Preprocessing.ipynb'\r\n"
     ]
    }
   ],
   "source": [
    "# Saving and loading the model\n",
    "model.save(\"linearclassifier.h5\")\n",
    "\n",
    "# Check that the file exists\n",
    "!ls -lh"
   ]
  },
  {
   "cell_type": "code",
   "execution_count": 20,
   "id": "fabulous-tribute",
   "metadata": {},
   "outputs": [
    {
     "name": "stdout",
     "output_type": "stream",
     "text": [
      "[<tensorflow.python.keras.layers.core.Dense object at 0x7f082433d9a0>]\n",
      "6/6 [==============================] - 0s 633us/step - loss: 0.0989 - accuracy: 0.9681\n"
     ]
    },
    {
     "data": {
      "text/plain": [
       "[0.09886528551578522, 0.9680851101875305]"
      ]
     },
     "execution_count": 20,
     "metadata": {},
     "output_type": "execute_result"
    }
   ],
   "source": [
    "# Load the model and test it\n",
    "model = tf.keras.models.load_model(\"linearclassifier.h5\")\n",
    "print(model.layers)\n",
    "model.evaluate(X_test, y_test)"
   ]
  },
  {
   "cell_type": "code",
   "execution_count": null,
   "id": "healthy-television",
   "metadata": {},
   "outputs": [],
   "source": []
  }
 ],
 "metadata": {
  "kernelspec": {
   "display_name": "Python 3",
   "language": "python",
   "name": "python3"
  },
  "language_info": {
   "codemirror_mode": {
    "name": "ipython",
    "version": 3
   },
   "file_extension": ".py",
   "mimetype": "text/x-python",
   "name": "python",
   "nbconvert_exporter": "python",
   "pygments_lexer": "ipython3",
   "version": "3.8.10"
  }
 },
 "nbformat": 4,
 "nbformat_minor": 5
}
